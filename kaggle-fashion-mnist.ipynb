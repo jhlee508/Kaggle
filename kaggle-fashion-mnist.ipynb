{
 "cells": [
  {
   "cell_type": "code",
   "execution_count": 1,
   "metadata": {
    "execution": {
     "iopub.execute_input": "2021-01-18T11:16:30.075337Z",
     "iopub.status.busy": "2021-01-18T11:16:30.074650Z",
     "iopub.status.idle": "2021-01-18T11:16:36.286099Z",
     "shell.execute_reply": "2021-01-18T11:16:36.285418Z"
    },
    "papermill": {
     "duration": 6.236617,
     "end_time": "2021-01-18T11:16:36.286217",
     "exception": false,
     "start_time": "2021-01-18T11:16:30.049600",
     "status": "completed"
    },
    "tags": []
   },
   "outputs": [],
   "source": [
    "import numpy as np\n",
    "import pandas as pd\n",
    "import matplotlib.pyplot as plt\n",
    "from keras.utils import to_categorical\n",
    "from sklearn.model_selection import train_test_split\n",
    "\n",
    "%matplotlib inline"
   ]
  },
  {
   "cell_type": "code",
   "execution_count": 2,
   "metadata": {
    "_cell_guid": "b1076dfc-b9ad-4769-8c92-a6c4dae69d19",
    "_uuid": "8f2839f25d086af736a60e9eeb907d3b93b6e0e5",
    "execution": {
     "iopub.execute_input": "2021-01-18T11:16:36.326793Z",
     "iopub.status.busy": "2021-01-18T11:16:36.326172Z",
     "iopub.status.idle": "2021-01-18T11:16:36.338587Z",
     "shell.execute_reply": "2021-01-18T11:16:36.339011Z"
    },
    "papermill": {
     "duration": 0.034497,
     "end_time": "2021-01-18T11:16:36.339120",
     "exception": false,
     "start_time": "2021-01-18T11:16:36.304623",
     "status": "completed"
    },
    "tags": []
   },
   "outputs": [
    {
     "name": "stdout",
     "output_type": "stream",
     "text": [
      "/kaggle/input/fashionmnist/t10k-labels-idx1-ubyte\n",
      "/kaggle/input/fashionmnist/t10k-images-idx3-ubyte\n",
      "/kaggle/input/fashionmnist/fashion-mnist_test.csv\n",
      "/kaggle/input/fashionmnist/fashion-mnist_train.csv\n",
      "/kaggle/input/fashionmnist/train-labels-idx1-ubyte\n",
      "/kaggle/input/fashionmnist/train-images-idx3-ubyte\n"
     ]
    }
   ],
   "source": [
    "import os\n",
    "for dirname, _, filenames in os.walk('/kaggle/input'):\n",
    "    for filename in filenames:\n",
    "        print(os.path.join(dirname, filename))"
   ]
  },
  {
   "cell_type": "code",
   "execution_count": 3,
   "metadata": {
    "execution": {
     "iopub.execute_input": "2021-01-18T11:16:36.436211Z",
     "iopub.status.busy": "2021-01-18T11:16:36.435244Z",
     "iopub.status.idle": "2021-01-18T11:16:42.941096Z",
     "shell.execute_reply": "2021-01-18T11:16:42.940609Z"
    },
    "papermill": {
     "duration": 6.584845,
     "end_time": "2021-01-18T11:16:42.941197",
     "exception": false,
     "start_time": "2021-01-18T11:16:36.356352",
     "status": "completed"
    },
    "tags": []
   },
   "outputs": [
    {
     "data": {
      "text/html": [
       "<div>\n",
       "<style scoped>\n",
       "    .dataframe tbody tr th:only-of-type {\n",
       "        vertical-align: middle;\n",
       "    }\n",
       "\n",
       "    .dataframe tbody tr th {\n",
       "        vertical-align: top;\n",
       "    }\n",
       "\n",
       "    .dataframe thead th {\n",
       "        text-align: right;\n",
       "    }\n",
       "</style>\n",
       "<table border=\"1\" class=\"dataframe\">\n",
       "  <thead>\n",
       "    <tr style=\"text-align: right;\">\n",
       "      <th></th>\n",
       "      <th>label</th>\n",
       "      <th>pixel1</th>\n",
       "      <th>pixel2</th>\n",
       "      <th>pixel3</th>\n",
       "      <th>pixel4</th>\n",
       "      <th>pixel5</th>\n",
       "      <th>pixel6</th>\n",
       "      <th>pixel7</th>\n",
       "      <th>pixel8</th>\n",
       "      <th>pixel9</th>\n",
       "      <th>...</th>\n",
       "      <th>pixel775</th>\n",
       "      <th>pixel776</th>\n",
       "      <th>pixel777</th>\n",
       "      <th>pixel778</th>\n",
       "      <th>pixel779</th>\n",
       "      <th>pixel780</th>\n",
       "      <th>pixel781</th>\n",
       "      <th>pixel782</th>\n",
       "      <th>pixel783</th>\n",
       "      <th>pixel784</th>\n",
       "    </tr>\n",
       "  </thead>\n",
       "  <tbody>\n",
       "    <tr>\n",
       "      <th>0</th>\n",
       "      <td>2</td>\n",
       "      <td>0</td>\n",
       "      <td>0</td>\n",
       "      <td>0</td>\n",
       "      <td>0</td>\n",
       "      <td>0</td>\n",
       "      <td>0</td>\n",
       "      <td>0</td>\n",
       "      <td>0</td>\n",
       "      <td>0</td>\n",
       "      <td>...</td>\n",
       "      <td>0</td>\n",
       "      <td>0</td>\n",
       "      <td>0</td>\n",
       "      <td>0</td>\n",
       "      <td>0</td>\n",
       "      <td>0</td>\n",
       "      <td>0</td>\n",
       "      <td>0</td>\n",
       "      <td>0</td>\n",
       "      <td>0</td>\n",
       "    </tr>\n",
       "    <tr>\n",
       "      <th>1</th>\n",
       "      <td>9</td>\n",
       "      <td>0</td>\n",
       "      <td>0</td>\n",
       "      <td>0</td>\n",
       "      <td>0</td>\n",
       "      <td>0</td>\n",
       "      <td>0</td>\n",
       "      <td>0</td>\n",
       "      <td>0</td>\n",
       "      <td>0</td>\n",
       "      <td>...</td>\n",
       "      <td>0</td>\n",
       "      <td>0</td>\n",
       "      <td>0</td>\n",
       "      <td>0</td>\n",
       "      <td>0</td>\n",
       "      <td>0</td>\n",
       "      <td>0</td>\n",
       "      <td>0</td>\n",
       "      <td>0</td>\n",
       "      <td>0</td>\n",
       "    </tr>\n",
       "    <tr>\n",
       "      <th>2</th>\n",
       "      <td>6</td>\n",
       "      <td>0</td>\n",
       "      <td>0</td>\n",
       "      <td>0</td>\n",
       "      <td>0</td>\n",
       "      <td>0</td>\n",
       "      <td>0</td>\n",
       "      <td>0</td>\n",
       "      <td>5</td>\n",
       "      <td>0</td>\n",
       "      <td>...</td>\n",
       "      <td>0</td>\n",
       "      <td>0</td>\n",
       "      <td>0</td>\n",
       "      <td>30</td>\n",
       "      <td>43</td>\n",
       "      <td>0</td>\n",
       "      <td>0</td>\n",
       "      <td>0</td>\n",
       "      <td>0</td>\n",
       "      <td>0</td>\n",
       "    </tr>\n",
       "    <tr>\n",
       "      <th>3</th>\n",
       "      <td>0</td>\n",
       "      <td>0</td>\n",
       "      <td>0</td>\n",
       "      <td>0</td>\n",
       "      <td>1</td>\n",
       "      <td>2</td>\n",
       "      <td>0</td>\n",
       "      <td>0</td>\n",
       "      <td>0</td>\n",
       "      <td>0</td>\n",
       "      <td>...</td>\n",
       "      <td>3</td>\n",
       "      <td>0</td>\n",
       "      <td>0</td>\n",
       "      <td>0</td>\n",
       "      <td>0</td>\n",
       "      <td>1</td>\n",
       "      <td>0</td>\n",
       "      <td>0</td>\n",
       "      <td>0</td>\n",
       "      <td>0</td>\n",
       "    </tr>\n",
       "    <tr>\n",
       "      <th>4</th>\n",
       "      <td>3</td>\n",
       "      <td>0</td>\n",
       "      <td>0</td>\n",
       "      <td>0</td>\n",
       "      <td>0</td>\n",
       "      <td>0</td>\n",
       "      <td>0</td>\n",
       "      <td>0</td>\n",
       "      <td>0</td>\n",
       "      <td>0</td>\n",
       "      <td>...</td>\n",
       "      <td>0</td>\n",
       "      <td>0</td>\n",
       "      <td>0</td>\n",
       "      <td>0</td>\n",
       "      <td>0</td>\n",
       "      <td>0</td>\n",
       "      <td>0</td>\n",
       "      <td>0</td>\n",
       "      <td>0</td>\n",
       "      <td>0</td>\n",
       "    </tr>\n",
       "    <tr>\n",
       "      <th>...</th>\n",
       "      <td>...</td>\n",
       "      <td>...</td>\n",
       "      <td>...</td>\n",
       "      <td>...</td>\n",
       "      <td>...</td>\n",
       "      <td>...</td>\n",
       "      <td>...</td>\n",
       "      <td>...</td>\n",
       "      <td>...</td>\n",
       "      <td>...</td>\n",
       "      <td>...</td>\n",
       "      <td>...</td>\n",
       "      <td>...</td>\n",
       "      <td>...</td>\n",
       "      <td>...</td>\n",
       "      <td>...</td>\n",
       "      <td>...</td>\n",
       "      <td>...</td>\n",
       "      <td>...</td>\n",
       "      <td>...</td>\n",
       "      <td>...</td>\n",
       "    </tr>\n",
       "    <tr>\n",
       "      <th>59995</th>\n",
       "      <td>9</td>\n",
       "      <td>0</td>\n",
       "      <td>0</td>\n",
       "      <td>0</td>\n",
       "      <td>0</td>\n",
       "      <td>0</td>\n",
       "      <td>0</td>\n",
       "      <td>0</td>\n",
       "      <td>0</td>\n",
       "      <td>0</td>\n",
       "      <td>...</td>\n",
       "      <td>0</td>\n",
       "      <td>0</td>\n",
       "      <td>0</td>\n",
       "      <td>0</td>\n",
       "      <td>0</td>\n",
       "      <td>0</td>\n",
       "      <td>0</td>\n",
       "      <td>0</td>\n",
       "      <td>0</td>\n",
       "      <td>0</td>\n",
       "    </tr>\n",
       "    <tr>\n",
       "      <th>59996</th>\n",
       "      <td>1</td>\n",
       "      <td>0</td>\n",
       "      <td>0</td>\n",
       "      <td>0</td>\n",
       "      <td>0</td>\n",
       "      <td>0</td>\n",
       "      <td>0</td>\n",
       "      <td>0</td>\n",
       "      <td>0</td>\n",
       "      <td>0</td>\n",
       "      <td>...</td>\n",
       "      <td>73</td>\n",
       "      <td>0</td>\n",
       "      <td>0</td>\n",
       "      <td>0</td>\n",
       "      <td>0</td>\n",
       "      <td>0</td>\n",
       "      <td>0</td>\n",
       "      <td>0</td>\n",
       "      <td>0</td>\n",
       "      <td>0</td>\n",
       "    </tr>\n",
       "    <tr>\n",
       "      <th>59997</th>\n",
       "      <td>8</td>\n",
       "      <td>0</td>\n",
       "      <td>0</td>\n",
       "      <td>0</td>\n",
       "      <td>0</td>\n",
       "      <td>0</td>\n",
       "      <td>0</td>\n",
       "      <td>0</td>\n",
       "      <td>0</td>\n",
       "      <td>0</td>\n",
       "      <td>...</td>\n",
       "      <td>160</td>\n",
       "      <td>162</td>\n",
       "      <td>163</td>\n",
       "      <td>135</td>\n",
       "      <td>94</td>\n",
       "      <td>0</td>\n",
       "      <td>0</td>\n",
       "      <td>0</td>\n",
       "      <td>0</td>\n",
       "      <td>0</td>\n",
       "    </tr>\n",
       "    <tr>\n",
       "      <th>59998</th>\n",
       "      <td>8</td>\n",
       "      <td>0</td>\n",
       "      <td>0</td>\n",
       "      <td>0</td>\n",
       "      <td>0</td>\n",
       "      <td>0</td>\n",
       "      <td>0</td>\n",
       "      <td>0</td>\n",
       "      <td>0</td>\n",
       "      <td>0</td>\n",
       "      <td>...</td>\n",
       "      <td>0</td>\n",
       "      <td>0</td>\n",
       "      <td>0</td>\n",
       "      <td>0</td>\n",
       "      <td>0</td>\n",
       "      <td>0</td>\n",
       "      <td>0</td>\n",
       "      <td>0</td>\n",
       "      <td>0</td>\n",
       "      <td>0</td>\n",
       "    </tr>\n",
       "    <tr>\n",
       "      <th>59999</th>\n",
       "      <td>7</td>\n",
       "      <td>0</td>\n",
       "      <td>0</td>\n",
       "      <td>0</td>\n",
       "      <td>0</td>\n",
       "      <td>0</td>\n",
       "      <td>0</td>\n",
       "      <td>0</td>\n",
       "      <td>0</td>\n",
       "      <td>0</td>\n",
       "      <td>...</td>\n",
       "      <td>0</td>\n",
       "      <td>0</td>\n",
       "      <td>0</td>\n",
       "      <td>0</td>\n",
       "      <td>0</td>\n",
       "      <td>0</td>\n",
       "      <td>0</td>\n",
       "      <td>0</td>\n",
       "      <td>0</td>\n",
       "      <td>0</td>\n",
       "    </tr>\n",
       "  </tbody>\n",
       "</table>\n",
       "<p>60000 rows × 785 columns</p>\n",
       "</div>"
      ],
      "text/plain": [
       "       label  pixel1  pixel2  pixel3  pixel4  pixel5  pixel6  pixel7  pixel8  \\\n",
       "0          2       0       0       0       0       0       0       0       0   \n",
       "1          9       0       0       0       0       0       0       0       0   \n",
       "2          6       0       0       0       0       0       0       0       5   \n",
       "3          0       0       0       0       1       2       0       0       0   \n",
       "4          3       0       0       0       0       0       0       0       0   \n",
       "...      ...     ...     ...     ...     ...     ...     ...     ...     ...   \n",
       "59995      9       0       0       0       0       0       0       0       0   \n",
       "59996      1       0       0       0       0       0       0       0       0   \n",
       "59997      8       0       0       0       0       0       0       0       0   \n",
       "59998      8       0       0       0       0       0       0       0       0   \n",
       "59999      7       0       0       0       0       0       0       0       0   \n",
       "\n",
       "       pixel9  ...  pixel775  pixel776  pixel777  pixel778  pixel779  \\\n",
       "0           0  ...         0         0         0         0         0   \n",
       "1           0  ...         0         0         0         0         0   \n",
       "2           0  ...         0         0         0        30        43   \n",
       "3           0  ...         3         0         0         0         0   \n",
       "4           0  ...         0         0         0         0         0   \n",
       "...       ...  ...       ...       ...       ...       ...       ...   \n",
       "59995       0  ...         0         0         0         0         0   \n",
       "59996       0  ...        73         0         0         0         0   \n",
       "59997       0  ...       160       162       163       135        94   \n",
       "59998       0  ...         0         0         0         0         0   \n",
       "59999       0  ...         0         0         0         0         0   \n",
       "\n",
       "       pixel780  pixel781  pixel782  pixel783  pixel784  \n",
       "0             0         0         0         0         0  \n",
       "1             0         0         0         0         0  \n",
       "2             0         0         0         0         0  \n",
       "3             1         0         0         0         0  \n",
       "4             0         0         0         0         0  \n",
       "...         ...       ...       ...       ...       ...  \n",
       "59995         0         0         0         0         0  \n",
       "59996         0         0         0         0         0  \n",
       "59997         0         0         0         0         0  \n",
       "59998         0         0         0         0         0  \n",
       "59999         0         0         0         0         0  \n",
       "\n",
       "[60000 rows x 785 columns]"
      ]
     },
     "execution_count": 3,
     "metadata": {},
     "output_type": "execute_result"
    }
   ],
   "source": [
    "df_train = pd.read_csv(\"/kaggle/input/fashionmnist/fashion-mnist_train.csv\")\n",
    "df_train"
   ]
  },
  {
   "cell_type": "code",
   "execution_count": 4,
   "metadata": {
    "execution": {
     "iopub.execute_input": "2021-01-18T11:16:42.981015Z",
     "iopub.status.busy": "2021-01-18T11:16:42.980501Z",
     "iopub.status.idle": "2021-01-18T11:16:42.985920Z",
     "shell.execute_reply": "2021-01-18T11:16:42.985472Z"
    },
    "papermill": {
     "duration": 0.026529,
     "end_time": "2021-01-18T11:16:42.986002",
     "exception": false,
     "start_time": "2021-01-18T11:16:42.959473",
     "status": "completed"
    },
    "tags": []
   },
   "outputs": [
    {
     "data": {
      "text/plain": [
       "(60000, 785)"
      ]
     },
     "execution_count": 4,
     "metadata": {},
     "output_type": "execute_result"
    }
   ],
   "source": [
    "df_train.shape"
   ]
  },
  {
   "cell_type": "code",
   "execution_count": 5,
   "metadata": {
    "execution": {
     "iopub.execute_input": "2021-01-18T11:16:43.027693Z",
     "iopub.status.busy": "2021-01-18T11:16:43.027156Z",
     "iopub.status.idle": "2021-01-18T11:16:43.990781Z",
     "shell.execute_reply": "2021-01-18T11:16:43.990339Z"
    },
    "papermill": {
     "duration": 0.986635,
     "end_time": "2021-01-18T11:16:43.990881",
     "exception": false,
     "start_time": "2021-01-18T11:16:43.004246",
     "status": "completed"
    },
    "tags": []
   },
   "outputs": [
    {
     "data": {
      "text/html": [
       "<div>\n",
       "<style scoped>\n",
       "    .dataframe tbody tr th:only-of-type {\n",
       "        vertical-align: middle;\n",
       "    }\n",
       "\n",
       "    .dataframe tbody tr th {\n",
       "        vertical-align: top;\n",
       "    }\n",
       "\n",
       "    .dataframe thead th {\n",
       "        text-align: right;\n",
       "    }\n",
       "</style>\n",
       "<table border=\"1\" class=\"dataframe\">\n",
       "  <thead>\n",
       "    <tr style=\"text-align: right;\">\n",
       "      <th></th>\n",
       "      <th>label</th>\n",
       "      <th>pixel1</th>\n",
       "      <th>pixel2</th>\n",
       "      <th>pixel3</th>\n",
       "      <th>pixel4</th>\n",
       "      <th>pixel5</th>\n",
       "      <th>pixel6</th>\n",
       "      <th>pixel7</th>\n",
       "      <th>pixel8</th>\n",
       "      <th>pixel9</th>\n",
       "      <th>...</th>\n",
       "      <th>pixel775</th>\n",
       "      <th>pixel776</th>\n",
       "      <th>pixel777</th>\n",
       "      <th>pixel778</th>\n",
       "      <th>pixel779</th>\n",
       "      <th>pixel780</th>\n",
       "      <th>pixel781</th>\n",
       "      <th>pixel782</th>\n",
       "      <th>pixel783</th>\n",
       "      <th>pixel784</th>\n",
       "    </tr>\n",
       "  </thead>\n",
       "  <tbody>\n",
       "    <tr>\n",
       "      <th>0</th>\n",
       "      <td>0</td>\n",
       "      <td>0</td>\n",
       "      <td>0</td>\n",
       "      <td>0</td>\n",
       "      <td>0</td>\n",
       "      <td>0</td>\n",
       "      <td>0</td>\n",
       "      <td>0</td>\n",
       "      <td>9</td>\n",
       "      <td>8</td>\n",
       "      <td>...</td>\n",
       "      <td>103</td>\n",
       "      <td>87</td>\n",
       "      <td>56</td>\n",
       "      <td>0</td>\n",
       "      <td>0</td>\n",
       "      <td>0</td>\n",
       "      <td>0</td>\n",
       "      <td>0</td>\n",
       "      <td>0</td>\n",
       "      <td>0</td>\n",
       "    </tr>\n",
       "    <tr>\n",
       "      <th>1</th>\n",
       "      <td>1</td>\n",
       "      <td>0</td>\n",
       "      <td>0</td>\n",
       "      <td>0</td>\n",
       "      <td>0</td>\n",
       "      <td>0</td>\n",
       "      <td>0</td>\n",
       "      <td>0</td>\n",
       "      <td>0</td>\n",
       "      <td>0</td>\n",
       "      <td>...</td>\n",
       "      <td>34</td>\n",
       "      <td>0</td>\n",
       "      <td>0</td>\n",
       "      <td>0</td>\n",
       "      <td>0</td>\n",
       "      <td>0</td>\n",
       "      <td>0</td>\n",
       "      <td>0</td>\n",
       "      <td>0</td>\n",
       "      <td>0</td>\n",
       "    </tr>\n",
       "    <tr>\n",
       "      <th>2</th>\n",
       "      <td>2</td>\n",
       "      <td>0</td>\n",
       "      <td>0</td>\n",
       "      <td>0</td>\n",
       "      <td>0</td>\n",
       "      <td>0</td>\n",
       "      <td>0</td>\n",
       "      <td>14</td>\n",
       "      <td>53</td>\n",
       "      <td>99</td>\n",
       "      <td>...</td>\n",
       "      <td>0</td>\n",
       "      <td>0</td>\n",
       "      <td>0</td>\n",
       "      <td>0</td>\n",
       "      <td>63</td>\n",
       "      <td>53</td>\n",
       "      <td>31</td>\n",
       "      <td>0</td>\n",
       "      <td>0</td>\n",
       "      <td>0</td>\n",
       "    </tr>\n",
       "    <tr>\n",
       "      <th>3</th>\n",
       "      <td>2</td>\n",
       "      <td>0</td>\n",
       "      <td>0</td>\n",
       "      <td>0</td>\n",
       "      <td>0</td>\n",
       "      <td>0</td>\n",
       "      <td>0</td>\n",
       "      <td>0</td>\n",
       "      <td>0</td>\n",
       "      <td>0</td>\n",
       "      <td>...</td>\n",
       "      <td>137</td>\n",
       "      <td>126</td>\n",
       "      <td>140</td>\n",
       "      <td>0</td>\n",
       "      <td>133</td>\n",
       "      <td>224</td>\n",
       "      <td>222</td>\n",
       "      <td>56</td>\n",
       "      <td>0</td>\n",
       "      <td>0</td>\n",
       "    </tr>\n",
       "    <tr>\n",
       "      <th>4</th>\n",
       "      <td>3</td>\n",
       "      <td>0</td>\n",
       "      <td>0</td>\n",
       "      <td>0</td>\n",
       "      <td>0</td>\n",
       "      <td>0</td>\n",
       "      <td>0</td>\n",
       "      <td>0</td>\n",
       "      <td>0</td>\n",
       "      <td>0</td>\n",
       "      <td>...</td>\n",
       "      <td>0</td>\n",
       "      <td>0</td>\n",
       "      <td>0</td>\n",
       "      <td>0</td>\n",
       "      <td>0</td>\n",
       "      <td>0</td>\n",
       "      <td>0</td>\n",
       "      <td>0</td>\n",
       "      <td>0</td>\n",
       "      <td>0</td>\n",
       "    </tr>\n",
       "    <tr>\n",
       "      <th>...</th>\n",
       "      <td>...</td>\n",
       "      <td>...</td>\n",
       "      <td>...</td>\n",
       "      <td>...</td>\n",
       "      <td>...</td>\n",
       "      <td>...</td>\n",
       "      <td>...</td>\n",
       "      <td>...</td>\n",
       "      <td>...</td>\n",
       "      <td>...</td>\n",
       "      <td>...</td>\n",
       "      <td>...</td>\n",
       "      <td>...</td>\n",
       "      <td>...</td>\n",
       "      <td>...</td>\n",
       "      <td>...</td>\n",
       "      <td>...</td>\n",
       "      <td>...</td>\n",
       "      <td>...</td>\n",
       "      <td>...</td>\n",
       "      <td>...</td>\n",
       "    </tr>\n",
       "    <tr>\n",
       "      <th>9995</th>\n",
       "      <td>0</td>\n",
       "      <td>0</td>\n",
       "      <td>0</td>\n",
       "      <td>0</td>\n",
       "      <td>0</td>\n",
       "      <td>0</td>\n",
       "      <td>0</td>\n",
       "      <td>0</td>\n",
       "      <td>0</td>\n",
       "      <td>0</td>\n",
       "      <td>...</td>\n",
       "      <td>32</td>\n",
       "      <td>23</td>\n",
       "      <td>14</td>\n",
       "      <td>20</td>\n",
       "      <td>0</td>\n",
       "      <td>0</td>\n",
       "      <td>1</td>\n",
       "      <td>0</td>\n",
       "      <td>0</td>\n",
       "      <td>0</td>\n",
       "    </tr>\n",
       "    <tr>\n",
       "      <th>9996</th>\n",
       "      <td>6</td>\n",
       "      <td>0</td>\n",
       "      <td>0</td>\n",
       "      <td>0</td>\n",
       "      <td>0</td>\n",
       "      <td>0</td>\n",
       "      <td>0</td>\n",
       "      <td>0</td>\n",
       "      <td>0</td>\n",
       "      <td>0</td>\n",
       "      <td>...</td>\n",
       "      <td>0</td>\n",
       "      <td>0</td>\n",
       "      <td>0</td>\n",
       "      <td>2</td>\n",
       "      <td>52</td>\n",
       "      <td>23</td>\n",
       "      <td>28</td>\n",
       "      <td>0</td>\n",
       "      <td>0</td>\n",
       "      <td>0</td>\n",
       "    </tr>\n",
       "    <tr>\n",
       "      <th>9997</th>\n",
       "      <td>8</td>\n",
       "      <td>0</td>\n",
       "      <td>0</td>\n",
       "      <td>0</td>\n",
       "      <td>0</td>\n",
       "      <td>0</td>\n",
       "      <td>0</td>\n",
       "      <td>0</td>\n",
       "      <td>0</td>\n",
       "      <td>0</td>\n",
       "      <td>...</td>\n",
       "      <td>175</td>\n",
       "      <td>172</td>\n",
       "      <td>172</td>\n",
       "      <td>182</td>\n",
       "      <td>199</td>\n",
       "      <td>222</td>\n",
       "      <td>42</td>\n",
       "      <td>0</td>\n",
       "      <td>1</td>\n",
       "      <td>0</td>\n",
       "    </tr>\n",
       "    <tr>\n",
       "      <th>9998</th>\n",
       "      <td>8</td>\n",
       "      <td>0</td>\n",
       "      <td>1</td>\n",
       "      <td>3</td>\n",
       "      <td>0</td>\n",
       "      <td>0</td>\n",
       "      <td>0</td>\n",
       "      <td>0</td>\n",
       "      <td>0</td>\n",
       "      <td>0</td>\n",
       "      <td>...</td>\n",
       "      <td>0</td>\n",
       "      <td>0</td>\n",
       "      <td>0</td>\n",
       "      <td>0</td>\n",
       "      <td>0</td>\n",
       "      <td>1</td>\n",
       "      <td>0</td>\n",
       "      <td>0</td>\n",
       "      <td>0</td>\n",
       "      <td>0</td>\n",
       "    </tr>\n",
       "    <tr>\n",
       "      <th>9999</th>\n",
       "      <td>1</td>\n",
       "      <td>0</td>\n",
       "      <td>0</td>\n",
       "      <td>0</td>\n",
       "      <td>0</td>\n",
       "      <td>0</td>\n",
       "      <td>0</td>\n",
       "      <td>0</td>\n",
       "      <td>140</td>\n",
       "      <td>119</td>\n",
       "      <td>...</td>\n",
       "      <td>111</td>\n",
       "      <td>95</td>\n",
       "      <td>75</td>\n",
       "      <td>44</td>\n",
       "      <td>1</td>\n",
       "      <td>0</td>\n",
       "      <td>0</td>\n",
       "      <td>0</td>\n",
       "      <td>0</td>\n",
       "      <td>0</td>\n",
       "    </tr>\n",
       "  </tbody>\n",
       "</table>\n",
       "<p>10000 rows × 785 columns</p>\n",
       "</div>"
      ],
      "text/plain": [
       "      label  pixel1  pixel2  pixel3  pixel4  pixel5  pixel6  pixel7  pixel8  \\\n",
       "0         0       0       0       0       0       0       0       0       9   \n",
       "1         1       0       0       0       0       0       0       0       0   \n",
       "2         2       0       0       0       0       0       0      14      53   \n",
       "3         2       0       0       0       0       0       0       0       0   \n",
       "4         3       0       0       0       0       0       0       0       0   \n",
       "...     ...     ...     ...     ...     ...     ...     ...     ...     ...   \n",
       "9995      0       0       0       0       0       0       0       0       0   \n",
       "9996      6       0       0       0       0       0       0       0       0   \n",
       "9997      8       0       0       0       0       0       0       0       0   \n",
       "9998      8       0       1       3       0       0       0       0       0   \n",
       "9999      1       0       0       0       0       0       0       0     140   \n",
       "\n",
       "      pixel9  ...  pixel775  pixel776  pixel777  pixel778  pixel779  pixel780  \\\n",
       "0          8  ...       103        87        56         0         0         0   \n",
       "1          0  ...        34         0         0         0         0         0   \n",
       "2         99  ...         0         0         0         0        63        53   \n",
       "3          0  ...       137       126       140         0       133       224   \n",
       "4          0  ...         0         0         0         0         0         0   \n",
       "...      ...  ...       ...       ...       ...       ...       ...       ...   \n",
       "9995       0  ...        32        23        14        20         0         0   \n",
       "9996       0  ...         0         0         0         2        52        23   \n",
       "9997       0  ...       175       172       172       182       199       222   \n",
       "9998       0  ...         0         0         0         0         0         1   \n",
       "9999     119  ...       111        95        75        44         1         0   \n",
       "\n",
       "      pixel781  pixel782  pixel783  pixel784  \n",
       "0            0         0         0         0  \n",
       "1            0         0         0         0  \n",
       "2           31         0         0         0  \n",
       "3          222        56         0         0  \n",
       "4            0         0         0         0  \n",
       "...        ...       ...       ...       ...  \n",
       "9995         1         0         0         0  \n",
       "9996        28         0         0         0  \n",
       "9997        42         0         1         0  \n",
       "9998         0         0         0         0  \n",
       "9999         0         0         0         0  \n",
       "\n",
       "[10000 rows x 785 columns]"
      ]
     },
     "execution_count": 5,
     "metadata": {},
     "output_type": "execute_result"
    }
   ],
   "source": [
    "df_test = pd.read_csv(\"/kaggle/input/fashionmnist/fashion-mnist_test.csv\")\n",
    "df_test"
   ]
  },
  {
   "cell_type": "code",
   "execution_count": 6,
   "metadata": {
    "execution": {
     "iopub.execute_input": "2021-01-18T11:16:44.032779Z",
     "iopub.status.busy": "2021-01-18T11:16:44.032213Z",
     "iopub.status.idle": "2021-01-18T11:16:44.038121Z",
     "shell.execute_reply": "2021-01-18T11:16:44.037542Z"
    },
    "papermill": {
     "duration": 0.028226,
     "end_time": "2021-01-18T11:16:44.038209",
     "exception": false,
     "start_time": "2021-01-18T11:16:44.009983",
     "status": "completed"
    },
    "tags": []
   },
   "outputs": [
    {
     "data": {
      "text/plain": [
       "(10000, 785)"
      ]
     },
     "execution_count": 6,
     "metadata": {},
     "output_type": "execute_result"
    }
   ],
   "source": [
    "df_test.shape"
   ]
  },
  {
   "cell_type": "markdown",
   "metadata": {
    "papermill": {
     "duration": 0.019098,
     "end_time": "2021-01-18T11:16:44.076465",
     "exception": false,
     "start_time": "2021-01-18T11:16:44.057367",
     "status": "completed"
    },
    "tags": []
   },
   "source": [
    "### labels\n",
    "* 0 : T-shirt/top\n",
    "* 1 : Trouser\n",
    "* 2 : Pullover\n",
    "* 3 : Dress\n",
    "* 4 : Coat\n",
    "* 5 : Sandal\n",
    "* 6 : Shirt\n",
    "* 7 : Sneaker\n",
    "* 8 : Bag\n",
    "* 9 : Ankel boot"
   ]
  },
  {
   "cell_type": "code",
   "execution_count": 7,
   "metadata": {
    "execution": {
     "iopub.execute_input": "2021-01-18T11:16:44.230166Z",
     "iopub.status.busy": "2021-01-18T11:16:44.229493Z",
     "iopub.status.idle": "2021-01-18T11:16:44.233529Z",
     "shell.execute_reply": "2021-01-18T11:16:44.234130Z"
    },
    "papermill": {
     "duration": 0.138197,
     "end_time": "2021-01-18T11:16:44.234318",
     "exception": false,
     "start_time": "2021-01-18T11:16:44.096121",
     "status": "completed"
    },
    "tags": []
   },
   "outputs": [
    {
     "name": "stdout",
     "output_type": "stream",
     "text": [
      "(60000, 784) (60000,)\n"
     ]
    }
   ],
   "source": [
    "X_t = df_train.drop([\"label\"], axis=1)\n",
    "Y_t = df_train.label.values\n",
    "print(X_t.shape, Y_t.shape)"
   ]
  },
  {
   "cell_type": "code",
   "execution_count": 8,
   "metadata": {
    "execution": {
     "iopub.execute_input": "2021-01-18T11:16:44.297841Z",
     "iopub.status.busy": "2021-01-18T11:16:44.296078Z",
     "iopub.status.idle": "2021-01-18T11:16:44.300337Z",
     "shell.execute_reply": "2021-01-18T11:16:44.299771Z"
    },
    "papermill": {
     "duration": 0.044269,
     "end_time": "2021-01-18T11:16:44.300438",
     "exception": false,
     "start_time": "2021-01-18T11:16:44.256169",
     "status": "completed"
    },
    "tags": []
   },
   "outputs": [
    {
     "name": "stdout",
     "output_type": "stream",
     "text": [
      "(10000, 784) (10000,)\n"
     ]
    }
   ],
   "source": [
    "X_test = df_test.drop([\"label\"], axis=1)\n",
    "Y_test = df_test.label.values\n",
    "print(X_test.shape, Y_test.shape)"
   ]
  },
  {
   "cell_type": "code",
   "execution_count": 9,
   "metadata": {
    "execution": {
     "iopub.execute_input": "2021-01-18T11:16:44.347029Z",
     "iopub.status.busy": "2021-01-18T11:16:44.346532Z",
     "iopub.status.idle": "2021-01-18T11:16:44.900081Z",
     "shell.execute_reply": "2021-01-18T11:16:44.899603Z"
    },
    "papermill": {
     "duration": 0.5796,
     "end_time": "2021-01-18T11:16:44.900174",
     "exception": false,
     "start_time": "2021-01-18T11:16:44.320574",
     "status": "completed"
    },
    "tags": []
   },
   "outputs": [
    {
     "data": {
      "image/png": "[encoded data removed]",
      "text/plain": [
       "<Figure size 576x576 with 16 Axes>"
      ]
     },
     "metadata": {},
     "output_type": "display_data"
    }
   ],
   "source": [
    "plt.figure(figsize=(8, 8))\n",
    "X = X_t.to_numpy().reshape(60000, 28, 28)\n",
    "for i in range(16):\n",
    "    plt.subplot(4, 4, i+1)\n",
    "    plt.xticks([])\n",
    "    plt.yticks([])\n",
    "    plt.grid(False)\n",
    "    plt.imshow(X[i], cmap=plt.cm.binary)\n",
    "    plt.xlabel(str(Y_t[i]))\n",
    "plt.show()"
   ]
  },
  {
   "cell_type": "code",
   "execution_count": 10,
   "metadata": {
    "execution": {
     "iopub.execute_input": "2021-01-18T11:16:44.949879Z",
     "iopub.status.busy": "2021-01-18T11:16:44.949050Z",
     "iopub.status.idle": "2021-01-18T11:16:45.302817Z",
     "shell.execute_reply": "2021-01-18T11:16:45.302341Z"
    },
    "papermill": {
     "duration": 0.379805,
     "end_time": "2021-01-18T11:16:45.302923",
     "exception": false,
     "start_time": "2021-01-18T11:16:44.923118",
     "status": "completed"
    },
    "tags": []
   },
   "outputs": [],
   "source": [
    "X_train, X_val, Y_train, Y_val = train_test_split(X_t, Y_t, test_size=0.2, stratify = Y_t, random_state = 42)"
   ]
  },
  {
   "cell_type": "code",
   "execution_count": 11,
   "metadata": {
    "execution": {
     "iopub.execute_input": "2021-01-18T11:16:45.351807Z",
     "iopub.status.busy": "2021-01-18T11:16:45.351017Z",
     "iopub.status.idle": "2021-01-18T11:16:45.357544Z",
     "shell.execute_reply": "2021-01-18T11:16:45.356821Z"
    },
    "papermill": {
     "duration": 0.032342,
     "end_time": "2021-01-18T11:16:45.357714",
     "exception": false,
     "start_time": "2021-01-18T11:16:45.325372",
     "status": "completed"
    },
    "tags": []
   },
   "outputs": [
    {
     "name": "stdout",
     "output_type": "stream",
     "text": [
      "(48000, 784) (48000,)\n",
      "(12000, 784) (12000,)\n"
     ]
    }
   ],
   "source": [
    "print(X_train.shape, Y_train.shape)\n",
    "print(X_val.shape, Y_val.shape)"
   ]
  },
  {
   "cell_type": "code",
   "execution_count": 12,
   "metadata": {
    "execution": {
     "iopub.execute_input": "2021-01-18T11:16:45.405912Z",
     "iopub.status.busy": "2021-01-18T11:16:45.405381Z",
     "iopub.status.idle": "2021-01-18T11:16:45.410562Z",
     "shell.execute_reply": "2021-01-18T11:16:45.410940Z"
    },
    "papermill": {
     "duration": 0.03137,
     "end_time": "2021-01-18T11:16:45.411065",
     "exception": false,
     "start_time": "2021-01-18T11:16:45.379695",
     "status": "completed"
    },
    "tags": []
   },
   "outputs": [
    {
     "data": {
      "text/plain": [
       "dtype('int64')"
      ]
     },
     "execution_count": 12,
     "metadata": {},
     "output_type": "execute_result"
    }
   ],
   "source": [
    "X_train.values.dtype"
   ]
  },
  {
   "cell_type": "code",
   "execution_count": 13,
   "metadata": {
    "execution": {
     "iopub.execute_input": "2021-01-18T11:16:45.487567Z",
     "iopub.status.busy": "2021-01-18T11:16:45.486521Z",
     "iopub.status.idle": "2021-01-18T11:16:45.807364Z",
     "shell.execute_reply": "2021-01-18T11:16:45.806851Z"
    },
    "papermill": {
     "duration": 0.370863,
     "end_time": "2021-01-18T11:16:45.807483",
     "exception": false,
     "start_time": "2021-01-18T11:16:45.436620",
     "status": "completed"
    },
    "tags": []
   },
   "outputs": [],
   "source": [
    "X_train = X_train.astype(\"float64\")/255\n",
    "X_val = X_val.astype(\"float64\")/255\n",
    "X_test = X_test.astype(\"float64\")/255"
   ]
  },
  {
   "cell_type": "code",
   "execution_count": 14,
   "metadata": {
    "execution": {
     "iopub.execute_input": "2021-01-18T11:16:45.860797Z",
     "iopub.status.busy": "2021-01-18T11:16:45.860149Z",
     "iopub.status.idle": "2021-01-18T11:16:45.866308Z",
     "shell.execute_reply": "2021-01-18T11:16:45.865865Z"
    },
    "papermill": {
     "duration": 0.034912,
     "end_time": "2021-01-18T11:16:45.866447",
     "exception": false,
     "start_time": "2021-01-18T11:16:45.831535",
     "status": "completed"
    },
    "tags": []
   },
   "outputs": [
    {
     "data": {
      "text/plain": [
       "6"
      ]
     },
     "execution_count": 14,
     "metadata": {},
     "output_type": "execute_result"
    }
   ],
   "source": [
    "Y_train[0]"
   ]
  },
  {
   "cell_type": "code",
   "execution_count": 15,
   "metadata": {
    "execution": {
     "iopub.execute_input": "2021-01-18T11:16:45.918016Z",
     "iopub.status.busy": "2021-01-18T11:16:45.916717Z",
     "iopub.status.idle": "2021-01-18T11:16:45.920662Z",
     "shell.execute_reply": "2021-01-18T11:16:45.921037Z"
    },
    "papermill": {
     "duration": 0.031564,
     "end_time": "2021-01-18T11:16:45.921141",
     "exception": false,
     "start_time": "2021-01-18T11:16:45.889577",
     "status": "completed"
    },
    "tags": []
   },
   "outputs": [],
   "source": [
    "# one hot encoding\n",
    "Y_train = to_categorical(Y_train, 10)\n",
    "Y_val = to_categorical(Y_val, 10)\n",
    "Y_test = to_categorical(Y_test, 10)"
   ]
  },
  {
   "cell_type": "code",
   "execution_count": 16,
   "metadata": {
    "execution": {
     "iopub.execute_input": "2021-01-18T11:16:45.970849Z",
     "iopub.status.busy": "2021-01-18T11:16:45.970344Z",
     "iopub.status.idle": "2021-01-18T11:16:45.976222Z",
     "shell.execute_reply": "2021-01-18T11:16:45.975779Z"
    },
    "papermill": {
     "duration": 0.032501,
     "end_time": "2021-01-18T11:16:45.976336",
     "exception": false,
     "start_time": "2021-01-18T11:16:45.943835",
     "status": "completed"
    },
    "tags": []
   },
   "outputs": [
    {
     "data": {
      "text/plain": [
       "array([0., 0., 0., 0., 0., 0., 1., 0., 0., 0.], dtype=float32)"
      ]
     },
     "execution_count": 16,
     "metadata": {},
     "output_type": "execute_result"
    }
   ],
   "source": [
    "Y_train[0]"
   ]
  },
  {
   "cell_type": "markdown",
   "metadata": {
    "papermill": {
     "duration": 0.023167,
     "end_time": "2021-01-18T11:16:46.022944",
     "exception": false,
     "start_time": "2021-01-18T11:16:45.999777",
     "status": "completed"
    },
    "tags": []
   },
   "source": [
    "# 모델 생성"
   ]
  },
  {
   "cell_type": "code",
   "execution_count": 17,
   "metadata": {
    "execution": {
     "iopub.execute_input": "2021-01-18T11:16:46.073529Z",
     "iopub.status.busy": "2021-01-18T11:16:46.072957Z",
     "iopub.status.idle": "2021-01-18T11:16:46.076802Z",
     "shell.execute_reply": "2021-01-18T11:16:46.076393Z"
    },
    "papermill": {
     "duration": 0.03087,
     "end_time": "2021-01-18T11:16:46.076889",
     "exception": false,
     "start_time": "2021-01-18T11:16:46.046019",
     "status": "completed"
    },
    "tags": []
   },
   "outputs": [],
   "source": [
    "import keras\n",
    "from keras.models import Sequential\n",
    "from keras.layers import Dense, Flatten"
   ]
  },
  {
   "cell_type": "code",
   "execution_count": 18,
   "metadata": {
    "execution": {
     "iopub.execute_input": "2021-01-18T11:16:46.128442Z",
     "iopub.status.busy": "2021-01-18T11:16:46.127876Z",
     "iopub.status.idle": "2021-01-18T11:16:49.074180Z",
     "shell.execute_reply": "2021-01-18T11:16:49.073397Z"
    },
    "papermill": {
     "duration": 2.973877,
     "end_time": "2021-01-18T11:16:49.074328",
     "exception": false,
     "start_time": "2021-01-18T11:16:46.100451",
     "status": "completed"
    },
    "tags": []
   },
   "outputs": [
    {
     "name": "stdout",
     "output_type": "stream",
     "text": [
      "Model: \"sequential\"\n",
      "_________________________________________________________________\n",
      "Layer (type)                 Output Shape              Param #   \n",
      "=================================================================\n",
      "dense (Dense)                (None, 256)               200960    \n",
      "_________________________________________________________________\n",
      "dense_1 (Dense)              (None, 10)                2570      \n",
      "=================================================================\n",
      "Total params: 203,530\n",
      "Trainable params: 203,530\n",
      "Non-trainable params: 0\n",
      "_________________________________________________________________\n"
     ]
    }
   ],
   "source": [
    "model = Sequential()\n",
    "model.add(Dense(256, input_dim=784, activation='relu'))\n",
    "model.add(Dense(10, activation='softmax'))\n",
    "model.summary()"
   ]
  },
  {
   "cell_type": "code",
   "execution_count": 19,
   "metadata": {
    "execution": {
     "iopub.execute_input": "2021-01-18T11:16:49.179874Z",
     "iopub.status.busy": "2021-01-18T11:16:49.177760Z",
     "iopub.status.idle": "2021-01-18T11:16:49.186190Z",
     "shell.execute_reply": "2021-01-18T11:16:49.185671Z"
    },
    "papermill": {
     "duration": 0.045094,
     "end_time": "2021-01-18T11:16:49.186309",
     "exception": false,
     "start_time": "2021-01-18T11:16:49.141215",
     "status": "completed"
    },
    "tags": []
   },
   "outputs": [],
   "source": [
    "model.compile(loss='categorical_crossentropy', optimizer='adam', metrics=['accuracy'])"
   ]
  },
  {
   "cell_type": "code",
   "execution_count": 20,
   "metadata": {
    "execution": {
     "iopub.execute_input": "2021-01-18T11:16:49.245560Z",
     "iopub.status.busy": "2021-01-18T11:16:49.245032Z",
     "iopub.status.idle": "2021-01-18T11:17:05.381625Z",
     "shell.execute_reply": "2021-01-18T11:17:05.382612Z"
    },
    "papermill": {
     "duration": 16.167606,
     "end_time": "2021-01-18T11:17:05.382757",
     "exception": false,
     "start_time": "2021-01-18T11:16:49.215151",
     "status": "completed"
    },
    "tags": []
   },
   "outputs": [
    {
     "name": "stdout",
     "output_type": "stream",
     "text": [
      "Epoch 1/20\n",
      "240/240 [==============================] - 1s 4ms/step - loss: 0.5886 - accuracy: 0.7959 - val_loss: 0.4378 - val_accuracy: 0.8428\n",
      "Epoch 2/20\n",
      "240/240 [==============================] - 1s 3ms/step - loss: 0.4171 - accuracy: 0.8531 - val_loss: 0.4025 - val_accuracy: 0.8553\n",
      "Epoch 3/20\n",
      "240/240 [==============================] - 1s 3ms/step - loss: 0.3746 - accuracy: 0.8662 - val_loss: 0.3764 - val_accuracy: 0.8640\n",
      "Epoch 4/20\n",
      "240/240 [==============================] - 1s 3ms/step - loss: 0.3445 - accuracy: 0.8775 - val_loss: 0.3606 - val_accuracy: 0.8698\n",
      "Epoch 5/20\n",
      "240/240 [==============================] - 1s 3ms/step - loss: 0.3274 - accuracy: 0.8820 - val_loss: 0.3497 - val_accuracy: 0.8752\n",
      "Epoch 6/20\n",
      "240/240 [==============================] - 1s 3ms/step - loss: 0.3142 - accuracy: 0.8873 - val_loss: 0.3378 - val_accuracy: 0.8761\n",
      "Epoch 7/20\n",
      "240/240 [==============================] - 1s 3ms/step - loss: 0.2987 - accuracy: 0.8916 - val_loss: 0.3195 - val_accuracy: 0.8848\n",
      "Epoch 8/20\n",
      "240/240 [==============================] - 1s 4ms/step - loss: 0.2823 - accuracy: 0.8970 - val_loss: 0.3187 - val_accuracy: 0.8834\n",
      "Epoch 9/20\n",
      "240/240 [==============================] - 1s 3ms/step - loss: 0.2712 - accuracy: 0.9020 - val_loss: 0.3180 - val_accuracy: 0.8863\n",
      "Epoch 10/20\n",
      "240/240 [==============================] - 1s 3ms/step - loss: 0.2637 - accuracy: 0.9039 - val_loss: 0.3141 - val_accuracy: 0.8852\n",
      "Epoch 11/20\n",
      "240/240 [==============================] - 1s 3ms/step - loss: 0.2533 - accuracy: 0.9087 - val_loss: 0.3063 - val_accuracy: 0.8889\n",
      "Epoch 12/20\n",
      "240/240 [==============================] - 1s 3ms/step - loss: 0.2466 - accuracy: 0.9100 - val_loss: 0.3031 - val_accuracy: 0.8905\n",
      "Epoch 13/20\n",
      "240/240 [==============================] - 1s 3ms/step - loss: 0.2431 - accuracy: 0.9120 - val_loss: 0.2961 - val_accuracy: 0.8925\n",
      "Epoch 14/20\n",
      "240/240 [==============================] - 1s 3ms/step - loss: 0.2261 - accuracy: 0.9175 - val_loss: 0.3012 - val_accuracy: 0.8899\n",
      "Epoch 15/20\n",
      "240/240 [==============================] - 1s 3ms/step - loss: 0.2208 - accuracy: 0.9199 - val_loss: 0.3120 - val_accuracy: 0.8874\n",
      "Epoch 16/20\n",
      "240/240 [==============================] - 1s 3ms/step - loss: 0.2168 - accuracy: 0.9204 - val_loss: 0.2999 - val_accuracy: 0.8938\n",
      "Epoch 17/20\n",
      "240/240 [==============================] - 1s 3ms/step - loss: 0.2077 - accuracy: 0.9241 - val_loss: 0.3090 - val_accuracy: 0.8898\n",
      "Epoch 18/20\n",
      "240/240 [==============================] - 1s 3ms/step - loss: 0.2005 - accuracy: 0.9260 - val_loss: 0.3097 - val_accuracy: 0.8915\n",
      "Epoch 19/20\n",
      "240/240 [==============================] - 1s 3ms/step - loss: 0.1960 - accuracy: 0.9281 - val_loss: 0.3049 - val_accuracy: 0.8917\n",
      "Epoch 20/20\n",
      "240/240 [==============================] - 1s 3ms/step - loss: 0.1967 - accuracy: 0.9282 - val_loss: 0.3050 - val_accuracy: 0.8907\n"
     ]
    }
   ],
   "source": [
    "history = model.fit(X_train, Y_train,\n",
    "          batch_size=200,\n",
    "          epochs=20,\n",
    "          verbose=1, \n",
    "          validation_data=(X_val, Y_val))"
   ]
  },
  {
   "cell_type": "code",
   "execution_count": 21,
   "metadata": {
    "execution": {
     "iopub.execute_input": "2021-01-18T11:17:05.586899Z",
     "iopub.status.busy": "2021-01-18T11:17:05.586005Z",
     "iopub.status.idle": "2021-01-18T11:17:05.822402Z",
     "shell.execute_reply": "2021-01-18T11:17:05.822833Z"
    },
    "papermill": {
     "duration": 0.344984,
     "end_time": "2021-01-18T11:17:05.822955",
     "exception": false,
     "start_time": "2021-01-18T11:17:05.477971",
     "status": "completed"
    },
    "tags": []
   },
   "outputs": [
    {
     "data": {
      "image/png": "[encoded data removed]",
      "text/plain": [
       "<Figure size 432x288 with 2 Axes>"
      ]
     },
     "metadata": {
      "needs_background": "light"
     },
     "output_type": "display_data"
    }
   ],
   "source": [
    "# 모델 학습 과정\n",
    "fig, loss_ax = plt.subplots()\n",
    "acc_ax = loss_ax.twinx()\n",
    "\n",
    "loss_ax.plot(history.history['loss'], 'y', label='train loss')\n",
    "loss_ax.plot(history.history['val_loss'], 'r', label='val loss')\n",
    "\n",
    "acc_ax.plot(history.history['accuracy'], 'b', label='train acc')\n",
    "acc_ax.plot(history.history['val_accuracy'], 'g', label='val acc')\n",
    "\n",
    "loss_ax.set_xlabel('epoch')\n",
    "loss_ax.set_ylabel('loss')\n",
    "acc_ax.set_ylabel('accuracy')\n",
    "\n",
    "loss_ax.legend(loc='upper left')\n",
    "acc_ax.legend(loc='lower left')\n",
    "\n",
    "plt.show()"
   ]
  },
  {
   "cell_type": "code",
   "execution_count": 22,
   "metadata": {
    "execution": {
     "iopub.execute_input": "2021-01-18T11:17:06.027004Z",
     "iopub.status.busy": "2021-01-18T11:17:06.026408Z",
     "iopub.status.idle": "2021-01-18T11:17:06.742332Z",
     "shell.execute_reply": "2021-01-18T11:17:06.743141Z"
    },
    "papermill": {
     "duration": 0.818695,
     "end_time": "2021-01-18T11:17:06.743329",
     "exception": false,
     "start_time": "2021-01-18T11:17:05.924634",
     "status": "completed"
    },
    "tags": []
   },
   "outputs": [
    {
     "name": "stdout",
     "output_type": "stream",
     "text": [
      "Test loss: 0.295943021774292\n",
      "Test accuracy: 0.8917999863624573\n"
     ]
    }
   ],
   "source": [
    "score = model.evaluate(X_test, Y_test, verbose = 0)\n",
    "print('Test loss:', score[0])\n",
    "print('Test accuracy:', score[1])"
   ]
  },
  {
   "cell_type": "markdown",
   "metadata": {
    "papermill": {
     "duration": 0.152144,
     "end_time": "2021-01-18T11:17:07.060737",
     "exception": false,
     "start_time": "2021-01-18T11:17:06.908593",
     "status": "completed"
    },
    "tags": []
   },
   "source": [
    "# CNN 모델 생성"
   ]
  },
  {
   "cell_type": "code",
   "execution_count": 23,
   "metadata": {
    "execution": {
     "iopub.execute_input": "2021-01-18T11:17:07.385607Z",
     "iopub.status.busy": "2021-01-18T11:17:07.384703Z",
     "iopub.status.idle": "2021-01-18T11:17:07.386992Z",
     "shell.execute_reply": "2021-01-18T11:17:07.386337Z"
    },
    "papermill": {
     "duration": 0.173567,
     "end_time": "2021-01-18T11:17:07.387117",
     "exception": false,
     "start_time": "2021-01-18T11:17:07.213550",
     "status": "completed"
    },
    "tags": []
   },
   "outputs": [],
   "source": [
    "# CNN 모델 라이브러리\n",
    "from keras.layers import Dense, Conv2D, Dropout, Flatten, MaxPooling2D\n",
    "from keras.utils import to_categorical"
   ]
  },
  {
   "cell_type": "code",
   "execution_count": 24,
   "metadata": {
    "execution": {
     "iopub.execute_input": "2021-01-18T11:17:07.839992Z",
     "iopub.status.busy": "2021-01-18T11:17:07.839123Z",
     "iopub.status.idle": "2021-01-18T11:17:07.852124Z",
     "shell.execute_reply": "2021-01-18T11:17:07.864429Z"
    },
    "papermill": {
     "duration": 0.256348,
     "end_time": "2021-01-18T11:17:07.864681",
     "exception": false,
     "start_time": "2021-01-18T11:17:07.608333",
     "status": "completed"
    },
    "tags": []
   },
   "outputs": [
    {
     "name": "stdout",
     "output_type": "stream",
     "text": [
      "(48000, 28, 28, 1) (12000, 28, 28, 1)\n"
     ]
    }
   ],
   "source": [
    "X_train = X_train.values.reshape(X_train.shape[0], 28, 28, 1)\n",
    "X_val = X_val.values.reshape(X_val.shape[0], 28, 28, 1)\n",
    "print(X_train.shape, X_val.shape)"
   ]
  },
  {
   "cell_type": "code",
   "execution_count": 25,
   "metadata": {
    "execution": {
     "iopub.execute_input": "2021-01-18T11:17:08.270704Z",
     "iopub.status.busy": "2021-01-18T11:17:08.269853Z",
     "iopub.status.idle": "2021-01-18T11:17:08.368142Z",
     "shell.execute_reply": "2021-01-18T11:17:08.367453Z"
    },
    "papermill": {
     "duration": 0.269817,
     "end_time": "2021-01-18T11:17:08.368247",
     "exception": false,
     "start_time": "2021-01-18T11:17:08.098430",
     "status": "completed"
    },
    "tags": []
   },
   "outputs": [
    {
     "name": "stdout",
     "output_type": "stream",
     "text": [
      "Model: \"sequential_1\"\n",
      "_________________________________________________________________\n",
      "Layer (type)                 Output Shape              Param #   \n",
      "=================================================================\n",
      "conv2d (Conv2D)              (None, 26, 26, 32)        320       \n",
      "_________________________________________________________________\n",
      "conv2d_1 (Conv2D)            (None, 24, 24, 64)        18496     \n",
      "_________________________________________________________________\n",
      "max_pooling2d (MaxPooling2D) (None, 12, 12, 64)        0         \n",
      "_________________________________________________________________\n",
      "dropout (Dropout)            (None, 12, 12, 64)        0         \n",
      "_________________________________________________________________\n",
      "flatten (Flatten)            (None, 9216)              0         \n",
      "_________________________________________________________________\n",
      "dense_2 (Dense)              (None, 64)                589888    \n",
      "_________________________________________________________________\n",
      "dropout_1 (Dropout)          (None, 64)                0         \n",
      "_________________________________________________________________\n",
      "dense_3 (Dense)              (None, 10)                650       \n",
      "=================================================================\n",
      "Total params: 609,354\n",
      "Trainable params: 609,354\n",
      "Non-trainable params: 0\n",
      "_________________________________________________________________\n"
     ]
    }
   ],
   "source": [
    "# 모델 define\n",
    "model2 = Sequential()\n",
    "model2.add(Conv2D(32, kernel_size =(3,3), input_shape = (28, 28, 1), activation='relu'))\n",
    "model2.add(Conv2D(64, (3, 3), activation='relu'))\n",
    "model2.add(MaxPooling2D(pool_size = 2))\n",
    "model2.add(Dropout(0.25))\n",
    "model2.add(Flatten())\n",
    "model2.add(Dense(64, activation='relu'))\n",
    "model2.add(Dropout(0.5))\n",
    "model2.add(Dense(10, activation = 'softmax'))\n",
    "\n",
    "model2.summary()"
   ]
  },
  {
   "cell_type": "code",
   "execution_count": 26,
   "metadata": {
    "execution": {
     "iopub.execute_input": "2021-01-18T11:17:08.576165Z",
     "iopub.status.busy": "2021-01-18T11:17:08.575637Z",
     "iopub.status.idle": "2021-01-18T11:17:08.582968Z",
     "shell.execute_reply": "2021-01-18T11:17:08.582444Z"
    },
    "papermill": {
     "duration": 0.115723,
     "end_time": "2021-01-18T11:17:08.583069",
     "exception": false,
     "start_time": "2021-01-18T11:17:08.467346",
     "status": "completed"
    },
    "tags": []
   },
   "outputs": [],
   "source": [
    "model2.compile(loss = 'categorical_crossentropy', optimizer='adam', metrics=['accuracy'])"
   ]
  },
  {
   "cell_type": "code",
   "execution_count": 27,
   "metadata": {
    "execution": {
     "iopub.execute_input": "2021-01-18T11:17:08.785745Z",
     "iopub.status.busy": "2021-01-18T11:17:08.784767Z",
     "iopub.status.idle": "2021-01-18T11:18:04.658746Z",
     "shell.execute_reply": "2021-01-18T11:18:04.659216Z"
    },
    "papermill": {
     "duration": 55.978074,
     "end_time": "2021-01-18T11:18:04.659387",
     "exception": false,
     "start_time": "2021-01-18T11:17:08.681313",
     "status": "completed"
    },
    "tags": []
   },
   "outputs": [
    {
     "name": "stdout",
     "output_type": "stream",
     "text": [
      "Epoch 1/30\n",
      "240/240 [==============================] - 2s 8ms/step - loss: 0.7302 - accuracy: 0.7422 - val_loss: 0.3833 - val_accuracy: 0.8636\n",
      "Epoch 2/30\n",
      "240/240 [==============================] - 2s 7ms/step - loss: 0.4668 - accuracy: 0.8349 - val_loss: 0.3265 - val_accuracy: 0.8832\n",
      "Epoch 3/30\n",
      "240/240 [==============================] - 2s 7ms/step - loss: 0.3997 - accuracy: 0.8593 - val_loss: 0.3035 - val_accuracy: 0.8877\n",
      "Epoch 4/30\n",
      "240/240 [==============================] - 2s 8ms/step - loss: 0.3606 - accuracy: 0.8713 - val_loss: 0.2742 - val_accuracy: 0.9021\n",
      "Epoch 5/30\n",
      "240/240 [==============================] - 2s 7ms/step - loss: 0.3336 - accuracy: 0.8798 - val_loss: 0.2637 - val_accuracy: 0.9040\n",
      "Epoch 6/30\n",
      "240/240 [==============================] - 2s 7ms/step - loss: 0.3121 - accuracy: 0.8869 - val_loss: 0.2454 - val_accuracy: 0.9108\n",
      "Epoch 7/30\n",
      "240/240 [==============================] - 2s 7ms/step - loss: 0.2930 - accuracy: 0.8934 - val_loss: 0.2384 - val_accuracy: 0.9129\n",
      "Epoch 8/30\n",
      "240/240 [==============================] - 2s 7ms/step - loss: 0.2766 - accuracy: 0.8989 - val_loss: 0.2330 - val_accuracy: 0.9167\n",
      "Epoch 9/30\n",
      "240/240 [==============================] - 2s 7ms/step - loss: 0.2659 - accuracy: 0.9029 - val_loss: 0.2379 - val_accuracy: 0.9136\n",
      "Epoch 10/30\n",
      "240/240 [==============================] - 2s 7ms/step - loss: 0.2517 - accuracy: 0.9071 - val_loss: 0.2294 - val_accuracy: 0.9167\n",
      "Epoch 11/30\n",
      "240/240 [==============================] - 2s 8ms/step - loss: 0.2441 - accuracy: 0.9086 - val_loss: 0.2238 - val_accuracy: 0.9206\n",
      "Epoch 12/30\n",
      "240/240 [==============================] - 2s 7ms/step - loss: 0.2304 - accuracy: 0.9159 - val_loss: 0.2189 - val_accuracy: 0.9227\n",
      "Epoch 13/30\n",
      "240/240 [==============================] - 2s 7ms/step - loss: 0.2234 - accuracy: 0.9165 - val_loss: 0.2122 - val_accuracy: 0.9244\n",
      "Epoch 14/30\n",
      "240/240 [==============================] - 2s 7ms/step - loss: 0.2158 - accuracy: 0.9204 - val_loss: 0.2199 - val_accuracy: 0.9222\n",
      "Epoch 15/30\n",
      "240/240 [==============================] - 2s 8ms/step - loss: 0.2084 - accuracy: 0.9209 - val_loss: 0.2173 - val_accuracy: 0.9224\n",
      "Epoch 16/30\n",
      "240/240 [==============================] - 2s 9ms/step - loss: 0.1982 - accuracy: 0.9243 - val_loss: 0.2122 - val_accuracy: 0.9233\n",
      "Epoch 17/30\n",
      "240/240 [==============================] - 2s 8ms/step - loss: 0.1924 - accuracy: 0.9284 - val_loss: 0.2202 - val_accuracy: 0.9237\n",
      "Epoch 18/30\n",
      "240/240 [==============================] - 2s 7ms/step - loss: 0.1867 - accuracy: 0.9287 - val_loss: 0.2160 - val_accuracy: 0.9268\n",
      "Epoch 19/30\n",
      "240/240 [==============================] - 2s 7ms/step - loss: 0.1790 - accuracy: 0.9314 - val_loss: 0.2117 - val_accuracy: 0.9289\n",
      "Epoch 20/30\n",
      "240/240 [==============================] - 2s 7ms/step - loss: 0.1730 - accuracy: 0.9348 - val_loss: 0.2146 - val_accuracy: 0.9274\n",
      "Epoch 21/30\n",
      "240/240 [==============================] - 2s 7ms/step - loss: 0.1643 - accuracy: 0.9376 - val_loss: 0.2227 - val_accuracy: 0.9290\n",
      "Epoch 22/30\n",
      "240/240 [==============================] - 2s 7ms/step - loss: 0.1639 - accuracy: 0.9372 - val_loss: 0.2183 - val_accuracy: 0.9277\n",
      "Epoch 23/30\n",
      "240/240 [==============================] - 2s 8ms/step - loss: 0.1602 - accuracy: 0.9377 - val_loss: 0.2152 - val_accuracy: 0.9307\n",
      "Epoch 24/30\n",
      "240/240 [==============================] - 2s 7ms/step - loss: 0.1565 - accuracy: 0.9398 - val_loss: 0.2211 - val_accuracy: 0.9269\n",
      "Epoch 25/30\n",
      "240/240 [==============================] - 2s 7ms/step - loss: 0.1525 - accuracy: 0.9391 - val_loss: 0.2289 - val_accuracy: 0.9273\n",
      "Epoch 26/30\n",
      "240/240 [==============================] - 2s 7ms/step - loss: 0.1481 - accuracy: 0.9412 - val_loss: 0.2271 - val_accuracy: 0.9274\n",
      "Epoch 27/30\n",
      "240/240 [==============================] - 2s 7ms/step - loss: 0.1396 - accuracy: 0.9443 - val_loss: 0.2282 - val_accuracy: 0.9287\n",
      "Epoch 28/30\n",
      "240/240 [==============================] - 2s 7ms/step - loss: 0.1415 - accuracy: 0.9433 - val_loss: 0.2254 - val_accuracy: 0.9292\n",
      "Epoch 29/30\n",
      "240/240 [==============================] - 2s 8ms/step - loss: 0.1380 - accuracy: 0.9446 - val_loss: 0.2340 - val_accuracy: 0.9301\n",
      "Epoch 30/30\n",
      "240/240 [==============================] - 2s 7ms/step - loss: 0.1331 - accuracy: 0.9466 - val_loss: 0.2385 - val_accuracy: 0.9273\n"
     ]
    }
   ],
   "source": [
    "history = model2.fit(X_train, Y_train,\n",
    "          batch_size=200,\n",
    "          epochs=30,\n",
    "          verbose=1, \n",
    "          validation_data=(X_val, Y_val))"
   ]
  },
  {
   "cell_type": "code",
   "execution_count": 28,
   "metadata": {
    "execution": {
     "iopub.execute_input": "2021-01-18T11:18:05.401112Z",
     "iopub.status.busy": "2021-01-18T11:18:05.400169Z",
     "iopub.status.idle": "2021-01-18T11:18:05.646167Z",
     "shell.execute_reply": "2021-01-18T11:18:05.646925Z"
    },
    "papermill": {
     "duration": 0.620429,
     "end_time": "2021-01-18T11:18:05.647081",
     "exception": false,
     "start_time": "2021-01-18T11:18:05.026652",
     "status": "completed"
    },
    "tags": []
   },
   "outputs": [
    {
     "data": {
      "image/png": "[encoded data removed]",
      "text/plain": [
       "<Figure size 432x288 with 2 Axes>"
      ]
     },
     "metadata": {
      "needs_background": "light"
     },
     "output_type": "display_data"
    }
   ],
   "source": [
    "# 모델 학습 과정\n",
    "fig, loss_ax = plt.subplots()\n",
    "acc_ax = loss_ax.twinx()\n",
    "\n",
    "loss_ax.plot(history.history['loss'], 'y', label='train loss')\n",
    "loss_ax.plot(history.history['val_loss'], 'r', label='val loss')\n",
    "\n",
    "acc_ax.plot(history.history['accuracy'], 'b', label='train acc')\n",
    "acc_ax.plot(history.history['val_accuracy'], 'g', label='val acc')\n",
    "\n",
    "loss_ax.set_xlabel('epoch')\n",
    "loss_ax.set_ylabel('loss')\n",
    "acc_ax.set_ylabel('accuracy')\n",
    "\n",
    "loss_ax.legend(loc='upper left')\n",
    "acc_ax.legend(loc='lower left')\n",
    "\n",
    "plt.show()"
   ]
  },
  {
   "cell_type": "code",
   "execution_count": 29,
   "metadata": {
    "execution": {
     "iopub.execute_input": "2021-01-18T11:18:06.393021Z",
     "iopub.status.busy": "2021-01-18T11:18:06.392095Z",
     "iopub.status.idle": "2021-01-18T11:18:07.203064Z",
     "shell.execute_reply": "2021-01-18T11:18:07.203806Z"
    },
    "papermill": {
     "duration": 1.181419,
     "end_time": "2021-01-18T11:18:07.203987",
     "exception": false,
     "start_time": "2021-01-18T11:18:06.022568",
     "status": "completed"
    },
    "tags": []
   },
   "outputs": [
    {
     "name": "stdout",
     "output_type": "stream",
     "text": [
      "Test loss: 0.24952755868434906\n",
      "Test accuracy: 0.926800012588501\n"
     ]
    }
   ],
   "source": [
    "X_test = X_test.values.reshape(X_test.shape[0], 28, 28, 1)\n",
    "\n",
    "score = model2.evaluate(X_test, Y_test, verbose = 0)\n",
    "print('Test loss:', score[0])\n",
    "print('Test accuracy:', score[1])"
   ]
  }
 ],
 "metadata": {
  "kernelspec": {
   "display_name": "Python 3",
   "language": "python",
   "name": "python3"
  },
  "language_info": {
   "codemirror_mode": {
    "name": "ipython",
    "version": 3
   },
   "file_extension": ".py",
   "mimetype": "text/x-python",
   "name": "python",
   "nbconvert_exporter": "python",
   "pygments_lexer": "ipython3",
   "version": "3.7.6"
  },
  "papermill": {
   "duration": 102.916831,
   "end_time": "2021-01-18T11:18:08.907403",
   "environment_variables": {},
   "exception": null,
   "input_path": "__notebook__.ipynb",
   "output_path": "__notebook__.ipynb",
   "parameters": {},
   "start_time": "2021-01-18T11:16:25.990572",
   "version": "2.1.0"
  }
 },
 "nbformat": 4,
 "nbformat_minor": 4
}
