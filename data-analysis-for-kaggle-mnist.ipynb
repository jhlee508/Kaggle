{
 "cells": [
  {
   "cell_type": "markdown",
   "metadata": {
    "papermill": {
     "duration": 0.016663,
     "end_time": "2021-01-11T10:16:27.405652",
     "exception": false,
     "start_time": "2021-01-11T10:16:27.388989",
     "status": "completed"
    },
    "tags": []
   },
   "source": [
    "# 라이브러리"
   ]
  },
  {
   "cell_type": "code",
   "execution_count": 1,
   "metadata": {
    "_cell_guid": "79c7e3d0-c299-4dcb-8224-4455121ee9b0",
    "_uuid": "d629ff2d2480ee46fbb7e2d37f6b5fab8052498a",
    "execution": {
     "iopub.execute_input": "2021-01-11T10:16:27.438190Z",
     "iopub.status.busy": "2021-01-11T10:16:27.437442Z",
     "iopub.status.idle": "2021-01-11T10:16:35.389102Z",
     "shell.execute_reply": "2021-01-11T10:16:35.388240Z"
    },
    "papermill": {
     "duration": 7.968701,
     "end_time": "2021-01-11T10:16:35.389244",
     "exception": false,
     "start_time": "2021-01-11T10:16:27.420543",
     "status": "completed"
    },
    "tags": []
   },
   "outputs": [],
   "source": [
    "import numpy as np\n",
    "import pandas as pd\n",
    "import matplotlib.pyplot as plt\n",
    "import keras\n",
    "from keras.models import Sequential\n",
    "from keras.layers import Dense, Flatten\n",
    "from keras.utils import to_categorical\n",
    "from sklearn.model_selection import train_test_split\n",
    "\n",
    "%matplotlib inline"
   ]
  },
  {
   "cell_type": "markdown",
   "metadata": {
    "papermill": {
     "duration": 0.01415,
     "end_time": "2021-01-11T10:16:35.417964",
     "exception": false,
     "start_time": "2021-01-11T10:16:35.403814",
     "status": "completed"
    },
    "tags": []
   },
   "source": [
    "# 데이터 업로드"
   ]
  },
  {
   "cell_type": "code",
   "execution_count": 2,
   "metadata": {
    "execution": {
     "iopub.execute_input": "2021-01-11T10:16:35.456486Z",
     "iopub.status.busy": "2021-01-11T10:16:35.455726Z",
     "iopub.status.idle": "2021-01-11T10:16:42.635588Z",
     "shell.execute_reply": "2021-01-11T10:16:42.636401Z"
    },
    "papermill": {
     "duration": 7.204317,
     "end_time": "2021-01-11T10:16:42.636610",
     "exception": false,
     "start_time": "2021-01-11T10:16:35.432293",
     "status": "completed"
    },
    "tags": []
   },
   "outputs": [
    {
     "data": {
      "text/html": [
       "<div>\n",
       "<style scoped>\n",
       "    .dataframe tbody tr th:only-of-type {\n",
       "        vertical-align: middle;\n",
       "    }\n",
       "\n",
       "    .dataframe tbody tr th {\n",
       "        vertical-align: top;\n",
       "    }\n",
       "\n",
       "    .dataframe thead th {\n",
       "        text-align: right;\n",
       "    }\n",
       "</style>\n",
       "<table border=\"1\" class=\"dataframe\">\n",
       "  <thead>\n",
       "    <tr style=\"text-align: right;\">\n",
       "      <th></th>\n",
       "      <th>label</th>\n",
       "      <th>1x1</th>\n",
       "      <th>1x2</th>\n",
       "      <th>1x3</th>\n",
       "      <th>1x4</th>\n",
       "      <th>1x5</th>\n",
       "      <th>1x6</th>\n",
       "      <th>1x7</th>\n",
       "      <th>1x8</th>\n",
       "      <th>1x9</th>\n",
       "      <th>...</th>\n",
       "      <th>28x19</th>\n",
       "      <th>28x20</th>\n",
       "      <th>28x21</th>\n",
       "      <th>28x22</th>\n",
       "      <th>28x23</th>\n",
       "      <th>28x24</th>\n",
       "      <th>28x25</th>\n",
       "      <th>28x26</th>\n",
       "      <th>28x27</th>\n",
       "      <th>28x28</th>\n",
       "    </tr>\n",
       "  </thead>\n",
       "  <tbody>\n",
       "    <tr>\n",
       "      <th>0</th>\n",
       "      <td>5</td>\n",
       "      <td>0</td>\n",
       "      <td>0</td>\n",
       "      <td>0</td>\n",
       "      <td>0</td>\n",
       "      <td>0</td>\n",
       "      <td>0</td>\n",
       "      <td>0</td>\n",
       "      <td>0</td>\n",
       "      <td>0</td>\n",
       "      <td>...</td>\n",
       "      <td>0</td>\n",
       "      <td>0</td>\n",
       "      <td>0</td>\n",
       "      <td>0</td>\n",
       "      <td>0</td>\n",
       "      <td>0</td>\n",
       "      <td>0</td>\n",
       "      <td>0</td>\n",
       "      <td>0</td>\n",
       "      <td>0</td>\n",
       "    </tr>\n",
       "    <tr>\n",
       "      <th>1</th>\n",
       "      <td>0</td>\n",
       "      <td>0</td>\n",
       "      <td>0</td>\n",
       "      <td>0</td>\n",
       "      <td>0</td>\n",
       "      <td>0</td>\n",
       "      <td>0</td>\n",
       "      <td>0</td>\n",
       "      <td>0</td>\n",
       "      <td>0</td>\n",
       "      <td>...</td>\n",
       "      <td>0</td>\n",
       "      <td>0</td>\n",
       "      <td>0</td>\n",
       "      <td>0</td>\n",
       "      <td>0</td>\n",
       "      <td>0</td>\n",
       "      <td>0</td>\n",
       "      <td>0</td>\n",
       "      <td>0</td>\n",
       "      <td>0</td>\n",
       "    </tr>\n",
       "    <tr>\n",
       "      <th>2</th>\n",
       "      <td>4</td>\n",
       "      <td>0</td>\n",
       "      <td>0</td>\n",
       "      <td>0</td>\n",
       "      <td>0</td>\n",
       "      <td>0</td>\n",
       "      <td>0</td>\n",
       "      <td>0</td>\n",
       "      <td>0</td>\n",
       "      <td>0</td>\n",
       "      <td>...</td>\n",
       "      <td>0</td>\n",
       "      <td>0</td>\n",
       "      <td>0</td>\n",
       "      <td>0</td>\n",
       "      <td>0</td>\n",
       "      <td>0</td>\n",
       "      <td>0</td>\n",
       "      <td>0</td>\n",
       "      <td>0</td>\n",
       "      <td>0</td>\n",
       "    </tr>\n",
       "    <tr>\n",
       "      <th>3</th>\n",
       "      <td>1</td>\n",
       "      <td>0</td>\n",
       "      <td>0</td>\n",
       "      <td>0</td>\n",
       "      <td>0</td>\n",
       "      <td>0</td>\n",
       "      <td>0</td>\n",
       "      <td>0</td>\n",
       "      <td>0</td>\n",
       "      <td>0</td>\n",
       "      <td>...</td>\n",
       "      <td>0</td>\n",
       "      <td>0</td>\n",
       "      <td>0</td>\n",
       "      <td>0</td>\n",
       "      <td>0</td>\n",
       "      <td>0</td>\n",
       "      <td>0</td>\n",
       "      <td>0</td>\n",
       "      <td>0</td>\n",
       "      <td>0</td>\n",
       "    </tr>\n",
       "    <tr>\n",
       "      <th>4</th>\n",
       "      <td>9</td>\n",
       "      <td>0</td>\n",
       "      <td>0</td>\n",
       "      <td>0</td>\n",
       "      <td>0</td>\n",
       "      <td>0</td>\n",
       "      <td>0</td>\n",
       "      <td>0</td>\n",
       "      <td>0</td>\n",
       "      <td>0</td>\n",
       "      <td>...</td>\n",
       "      <td>0</td>\n",
       "      <td>0</td>\n",
       "      <td>0</td>\n",
       "      <td>0</td>\n",
       "      <td>0</td>\n",
       "      <td>0</td>\n",
       "      <td>0</td>\n",
       "      <td>0</td>\n",
       "      <td>0</td>\n",
       "      <td>0</td>\n",
       "    </tr>\n",
       "    <tr>\n",
       "      <th>...</th>\n",
       "      <td>...</td>\n",
       "      <td>...</td>\n",
       "      <td>...</td>\n",
       "      <td>...</td>\n",
       "      <td>...</td>\n",
       "      <td>...</td>\n",
       "      <td>...</td>\n",
       "      <td>...</td>\n",
       "      <td>...</td>\n",
       "      <td>...</td>\n",
       "      <td>...</td>\n",
       "      <td>...</td>\n",
       "      <td>...</td>\n",
       "      <td>...</td>\n",
       "      <td>...</td>\n",
       "      <td>...</td>\n",
       "      <td>...</td>\n",
       "      <td>...</td>\n",
       "      <td>...</td>\n",
       "      <td>...</td>\n",
       "      <td>...</td>\n",
       "    </tr>\n",
       "    <tr>\n",
       "      <th>59995</th>\n",
       "      <td>8</td>\n",
       "      <td>0</td>\n",
       "      <td>0</td>\n",
       "      <td>0</td>\n",
       "      <td>0</td>\n",
       "      <td>0</td>\n",
       "      <td>0</td>\n",
       "      <td>0</td>\n",
       "      <td>0</td>\n",
       "      <td>0</td>\n",
       "      <td>...</td>\n",
       "      <td>0</td>\n",
       "      <td>0</td>\n",
       "      <td>0</td>\n",
       "      <td>0</td>\n",
       "      <td>0</td>\n",
       "      <td>0</td>\n",
       "      <td>0</td>\n",
       "      <td>0</td>\n",
       "      <td>0</td>\n",
       "      <td>0</td>\n",
       "    </tr>\n",
       "    <tr>\n",
       "      <th>59996</th>\n",
       "      <td>3</td>\n",
       "      <td>0</td>\n",
       "      <td>0</td>\n",
       "      <td>0</td>\n",
       "      <td>0</td>\n",
       "      <td>0</td>\n",
       "      <td>0</td>\n",
       "      <td>0</td>\n",
       "      <td>0</td>\n",
       "      <td>0</td>\n",
       "      <td>...</td>\n",
       "      <td>0</td>\n",
       "      <td>0</td>\n",
       "      <td>0</td>\n",
       "      <td>0</td>\n",
       "      <td>0</td>\n",
       "      <td>0</td>\n",
       "      <td>0</td>\n",
       "      <td>0</td>\n",
       "      <td>0</td>\n",
       "      <td>0</td>\n",
       "    </tr>\n",
       "    <tr>\n",
       "      <th>59997</th>\n",
       "      <td>5</td>\n",
       "      <td>0</td>\n",
       "      <td>0</td>\n",
       "      <td>0</td>\n",
       "      <td>0</td>\n",
       "      <td>0</td>\n",
       "      <td>0</td>\n",
       "      <td>0</td>\n",
       "      <td>0</td>\n",
       "      <td>0</td>\n",
       "      <td>...</td>\n",
       "      <td>0</td>\n",
       "      <td>0</td>\n",
       "      <td>0</td>\n",
       "      <td>0</td>\n",
       "      <td>0</td>\n",
       "      <td>0</td>\n",
       "      <td>0</td>\n",
       "      <td>0</td>\n",
       "      <td>0</td>\n",
       "      <td>0</td>\n",
       "    </tr>\n",
       "    <tr>\n",
       "      <th>59998</th>\n",
       "      <td>6</td>\n",
       "      <td>0</td>\n",
       "      <td>0</td>\n",
       "      <td>0</td>\n",
       "      <td>0</td>\n",
       "      <td>0</td>\n",
       "      <td>0</td>\n",
       "      <td>0</td>\n",
       "      <td>0</td>\n",
       "      <td>0</td>\n",
       "      <td>...</td>\n",
       "      <td>0</td>\n",
       "      <td>0</td>\n",
       "      <td>0</td>\n",
       "      <td>0</td>\n",
       "      <td>0</td>\n",
       "      <td>0</td>\n",
       "      <td>0</td>\n",
       "      <td>0</td>\n",
       "      <td>0</td>\n",
       "      <td>0</td>\n",
       "    </tr>\n",
       "    <tr>\n",
       "      <th>59999</th>\n",
       "      <td>8</td>\n",
       "      <td>0</td>\n",
       "      <td>0</td>\n",
       "      <td>0</td>\n",
       "      <td>0</td>\n",
       "      <td>0</td>\n",
       "      <td>0</td>\n",
       "      <td>0</td>\n",
       "      <td>0</td>\n",
       "      <td>0</td>\n",
       "      <td>...</td>\n",
       "      <td>0</td>\n",
       "      <td>0</td>\n",
       "      <td>0</td>\n",
       "      <td>0</td>\n",
       "      <td>0</td>\n",
       "      <td>0</td>\n",
       "      <td>0</td>\n",
       "      <td>0</td>\n",
       "      <td>0</td>\n",
       "      <td>0</td>\n",
       "    </tr>\n",
       "  </tbody>\n",
       "</table>\n",
       "<p>60000 rows × 785 columns</p>\n",
       "</div>"
      ],
      "text/plain": [
       "       label  1x1  1x2  1x3  1x4  1x5  1x6  1x7  1x8  1x9  ...  28x19  28x20  \\\n",
       "0          5    0    0    0    0    0    0    0    0    0  ...      0      0   \n",
       "1          0    0    0    0    0    0    0    0    0    0  ...      0      0   \n",
       "2          4    0    0    0    0    0    0    0    0    0  ...      0      0   \n",
       "3          1    0    0    0    0    0    0    0    0    0  ...      0      0   \n",
       "4          9    0    0    0    0    0    0    0    0    0  ...      0      0   \n",
       "...      ...  ...  ...  ...  ...  ...  ...  ...  ...  ...  ...    ...    ...   \n",
       "59995      8    0    0    0    0    0    0    0    0    0  ...      0      0   \n",
       "59996      3    0    0    0    0    0    0    0    0    0  ...      0      0   \n",
       "59997      5    0    0    0    0    0    0    0    0    0  ...      0      0   \n",
       "59998      6    0    0    0    0    0    0    0    0    0  ...      0      0   \n",
       "59999      8    0    0    0    0    0    0    0    0    0  ...      0      0   \n",
       "\n",
       "       28x21  28x22  28x23  28x24  28x25  28x26  28x27  28x28  \n",
       "0          0      0      0      0      0      0      0      0  \n",
       "1          0      0      0      0      0      0      0      0  \n",
       "2          0      0      0      0      0      0      0      0  \n",
       "3          0      0      0      0      0      0      0      0  \n",
       "4          0      0      0      0      0      0      0      0  \n",
       "...      ...    ...    ...    ...    ...    ...    ...    ...  \n",
       "59995      0      0      0      0      0      0      0      0  \n",
       "59996      0      0      0      0      0      0      0      0  \n",
       "59997      0      0      0      0      0      0      0      0  \n",
       "59998      0      0      0      0      0      0      0      0  \n",
       "59999      0      0      0      0      0      0      0      0  \n",
       "\n",
       "[60000 rows x 785 columns]"
      ]
     },
     "execution_count": 2,
     "metadata": {},
     "output_type": "execute_result"
    }
   ],
   "source": [
    "df_train = pd.read_csv(\"../input/mnist-in-csv/mnist_train.csv\")\n",
    "df_test = pd.read_csv(\"../input/mnist-in-csv/mnist_test.csv\")\n",
    "df_train"
   ]
  },
  {
   "cell_type": "markdown",
   "metadata": {
    "papermill": {
     "duration": 0.019423,
     "end_time": "2021-01-11T10:16:42.677550",
     "exception": false,
     "start_time": "2021-01-11T10:16:42.658127",
     "status": "completed"
    },
    "tags": []
   },
   "source": [
    "# 데이터 전처리"
   ]
  },
  {
   "cell_type": "code",
   "execution_count": 3,
   "metadata": {
    "execution": {
     "iopub.execute_input": "2021-01-11T10:16:42.739037Z",
     "iopub.status.busy": "2021-01-11T10:16:42.737797Z",
     "iopub.status.idle": "2021-01-11T10:16:42.741620Z",
     "shell.execute_reply": "2021-01-11T10:16:42.742224Z"
    },
    "papermill": {
     "duration": 0.038874,
     "end_time": "2021-01-11T10:16:42.742398",
     "exception": false,
     "start_time": "2021-01-11T10:16:42.703524",
     "status": "completed"
    },
    "tags": []
   },
   "outputs": [
    {
     "data": {
      "text/plain": [
       "(60000, 785)"
      ]
     },
     "execution_count": 3,
     "metadata": {},
     "output_type": "execute_result"
    }
   ],
   "source": [
    "df_train.shape"
   ]
  },
  {
   "cell_type": "code",
   "execution_count": 4,
   "metadata": {
    "execution": {
     "iopub.execute_input": "2021-01-11T10:16:42.787430Z",
     "iopub.status.busy": "2021-01-11T10:16:42.784224Z",
     "iopub.status.idle": "2021-01-11T10:16:42.793165Z",
     "shell.execute_reply": "2021-01-11T10:16:42.793730Z"
    },
    "papermill": {
     "duration": 0.032054,
     "end_time": "2021-01-11T10:16:42.793915",
     "exception": false,
     "start_time": "2021-01-11T10:16:42.761861",
     "status": "completed"
    },
    "tags": []
   },
   "outputs": [
    {
     "data": {
      "text/plain": [
       "(10000, 785)"
      ]
     },
     "execution_count": 4,
     "metadata": {},
     "output_type": "execute_result"
    }
   ],
   "source": [
    "df_test.shape"
   ]
  },
  {
   "cell_type": "code",
   "execution_count": 5,
   "metadata": {
    "execution": {
     "iopub.execute_input": "2021-01-11T10:16:43.095082Z",
     "iopub.status.busy": "2021-01-11T10:16:43.094227Z",
     "iopub.status.idle": "2021-01-11T10:16:43.097264Z",
     "shell.execute_reply": "2021-01-11T10:16:43.097757Z"
    },
    "papermill": {
     "duration": 0.263963,
     "end_time": "2021-01-11T10:16:43.097950",
     "exception": false,
     "start_time": "2021-01-11T10:16:42.833987",
     "status": "completed"
    },
    "tags": []
   },
   "outputs": [],
   "source": [
    "X_t = df_train.drop([\"label\"], axis=1)\n",
    "Y_t = df_train.label.values"
   ]
  },
  {
   "cell_type": "code",
   "execution_count": 6,
   "metadata": {
    "execution": {
     "iopub.execute_input": "2021-01-11T10:16:43.135578Z",
     "iopub.status.busy": "2021-01-11T10:16:43.134565Z",
     "iopub.status.idle": "2021-01-11T10:16:43.156012Z",
     "shell.execute_reply": "2021-01-11T10:16:43.156582Z"
    },
    "papermill": {
     "duration": 0.041773,
     "end_time": "2021-01-11T10:16:43.156761",
     "exception": false,
     "start_time": "2021-01-11T10:16:43.114988",
     "status": "completed"
    },
    "tags": []
   },
   "outputs": [],
   "source": [
    "X_test = df_test.drop([\"label\"], axis=1)\n",
    "Y_test = df_test.label.values"
   ]
  },
  {
   "cell_type": "code",
   "execution_count": 7,
   "metadata": {
    "execution": {
     "iopub.execute_input": "2021-01-11T10:16:43.200447Z",
     "iopub.status.busy": "2021-01-11T10:16:43.199202Z",
     "iopub.status.idle": "2021-01-11T10:16:43.623875Z",
     "shell.execute_reply": "2021-01-11T10:16:43.624499Z"
    },
    "papermill": {
     "duration": 0.446519,
     "end_time": "2021-01-11T10:16:43.624654",
     "exception": false,
     "start_time": "2021-01-11T10:16:43.178135",
     "status": "completed"
    },
    "tags": []
   },
   "outputs": [
    {
     "data": {
      "image/png": "[encoded data removed]",
      "text/plain": [
       "<Figure size 432x216 with 8 Axes>"
      ]
     },
     "metadata": {},
     "output_type": "display_data"
    }
   ],
   "source": [
    "# 8개의 데이터만 시각화해보기\n",
    "plt.figure(figsize=(6,3))\n",
    "X = X_t.to_numpy().reshape(60000, 28, 28)\n",
    "for i in range(8):\n",
    "    plt.subplot(2,4,i+1)\n",
    "    plt.xticks([])\n",
    "    plt.yticks([])\n",
    "    plt.grid(False)\n",
    "    plt.imshow(X[i], cmap=plt.cm.binary)\n",
    "    plt.xlabel(str(Y_t[i]))\n",
    "plt.show()"
   ]
  },
  {
   "cell_type": "code",
   "execution_count": 8,
   "metadata": {
    "execution": {
     "iopub.execute_input": "2021-01-11T10:16:43.668972Z",
     "iopub.status.busy": "2021-01-11T10:16:43.667793Z",
     "iopub.status.idle": "2021-01-11T10:16:44.147479Z",
     "shell.execute_reply": "2021-01-11T10:16:44.146592Z"
    },
    "papermill": {
     "duration": 0.50283,
     "end_time": "2021-01-11T10:16:44.147619",
     "exception": false,
     "start_time": "2021-01-11T10:16:43.644789",
     "status": "completed"
    },
    "tags": []
   },
   "outputs": [],
   "source": [
    "X_train, X_val, Y_train, Y_val = train_test_split(X_t, Y_t, test_size=0.2, stratify = Y_t, random_state = 42)"
   ]
  },
  {
   "cell_type": "code",
   "execution_count": 9,
   "metadata": {
    "execution": {
     "iopub.execute_input": "2021-01-11T10:16:44.193326Z",
     "iopub.status.busy": "2021-01-11T10:16:44.191974Z",
     "iopub.status.idle": "2021-01-11T10:16:44.200787Z",
     "shell.execute_reply": "2021-01-11T10:16:44.201972Z"
    },
    "papermill": {
     "duration": 0.034988,
     "end_time": "2021-01-11T10:16:44.202251",
     "exception": false,
     "start_time": "2021-01-11T10:16:44.167263",
     "status": "completed"
    },
    "tags": []
   },
   "outputs": [
    {
     "name": "stdout",
     "output_type": "stream",
     "text": [
      "(48000, 784) (48000,)\n"
     ]
    }
   ],
   "source": [
    "print(X_train.shape, Y_train.shape)"
   ]
  },
  {
   "cell_type": "code",
   "execution_count": 10,
   "metadata": {
    "execution": {
     "iopub.execute_input": "2021-01-11T10:16:44.249417Z",
     "iopub.status.busy": "2021-01-11T10:16:44.248524Z",
     "iopub.status.idle": "2021-01-11T10:16:44.252626Z",
     "shell.execute_reply": "2021-01-11T10:16:44.253174Z"
    },
    "papermill": {
     "duration": 0.031391,
     "end_time": "2021-01-11T10:16:44.253363",
     "exception": false,
     "start_time": "2021-01-11T10:16:44.221972",
     "status": "completed"
    },
    "tags": []
   },
   "outputs": [
    {
     "data": {
      "text/plain": [
       "dtype('int64')"
      ]
     },
     "execution_count": 10,
     "metadata": {},
     "output_type": "execute_result"
    }
   ],
   "source": [
    "X_train.values.dtype"
   ]
  },
  {
   "cell_type": "code",
   "execution_count": 11,
   "metadata": {
    "execution": {
     "iopub.execute_input": "2021-01-11T10:16:44.296623Z",
     "iopub.status.busy": "2021-01-11T10:16:44.295764Z",
     "iopub.status.idle": "2021-01-11T10:16:44.691242Z",
     "shell.execute_reply": "2021-01-11T10:16:44.690619Z"
    },
    "papermill": {
     "duration": 0.418474,
     "end_time": "2021-01-11T10:16:44.691379",
     "exception": false,
     "start_time": "2021-01-11T10:16:44.272905",
     "status": "completed"
    },
    "tags": []
   },
   "outputs": [],
   "source": [
    "X_train = X_train.astype(\"float64\")/255\n",
    "X_val = X_val.astype(\"float64\")/255\n",
    "X_test = X_test.astype(\"float64\")/255"
   ]
  },
  {
   "cell_type": "code",
   "execution_count": 12,
   "metadata": {
    "execution": {
     "iopub.execute_input": "2021-01-11T10:16:44.737647Z",
     "iopub.status.busy": "2021-01-11T10:16:44.736494Z",
     "iopub.status.idle": "2021-01-11T10:16:44.742321Z",
     "shell.execute_reply": "2021-01-11T10:16:44.742849Z"
    },
    "papermill": {
     "duration": 0.03094,
     "end_time": "2021-01-11T10:16:44.743021",
     "exception": false,
     "start_time": "2021-01-11T10:16:44.712081",
     "status": "completed"
    },
    "tags": []
   },
   "outputs": [
    {
     "data": {
      "text/plain": [
       "1"
      ]
     },
     "execution_count": 12,
     "metadata": {},
     "output_type": "execute_result"
    }
   ],
   "source": [
    "Y_train[0]"
   ]
  },
  {
   "cell_type": "code",
   "execution_count": 13,
   "metadata": {
    "execution": {
     "iopub.execute_input": "2021-01-11T10:16:44.789717Z",
     "iopub.status.busy": "2021-01-11T10:16:44.788279Z",
     "iopub.status.idle": "2021-01-11T10:16:44.795925Z",
     "shell.execute_reply": "2021-01-11T10:16:44.796475Z"
    },
    "papermill": {
     "duration": 0.032639,
     "end_time": "2021-01-11T10:16:44.796651",
     "exception": false,
     "start_time": "2021-01-11T10:16:44.764012",
     "status": "completed"
    },
    "tags": []
   },
   "outputs": [],
   "source": [
    "# one hot encoding\n",
    "Y_train = to_categorical(Y_train, 10)\n",
    "Y_val = to_categorical(Y_val, 10)\n",
    "Y_test = to_categorical(Y_test, 10)"
   ]
  },
  {
   "cell_type": "code",
   "execution_count": 14,
   "metadata": {
    "execution": {
     "iopub.execute_input": "2021-01-11T10:16:44.846524Z",
     "iopub.status.busy": "2021-01-11T10:16:44.845301Z",
     "iopub.status.idle": "2021-01-11T10:16:44.851945Z",
     "shell.execute_reply": "2021-01-11T10:16:44.852621Z"
    },
    "papermill": {
     "duration": 0.033384,
     "end_time": "2021-01-11T10:16:44.852818",
     "exception": false,
     "start_time": "2021-01-11T10:16:44.819434",
     "status": "completed"
    },
    "tags": []
   },
   "outputs": [
    {
     "data": {
      "text/plain": [
       "array([0., 1., 0., 0., 0., 0., 0., 0., 0., 0.], dtype=float32)"
      ]
     },
     "execution_count": 14,
     "metadata": {},
     "output_type": "execute_result"
    }
   ],
   "source": [
    "Y_train[0]"
   ]
  },
  {
   "cell_type": "markdown",
   "metadata": {
    "papermill": {
     "duration": 0.02145,
     "end_time": "2021-01-11T10:16:44.897237",
     "exception": false,
     "start_time": "2021-01-11T10:16:44.875787",
     "status": "completed"
    },
    "tags": []
   },
   "source": [
    "# 모델 생성"
   ]
  },
  {
   "cell_type": "code",
   "execution_count": 15,
   "metadata": {
    "execution": {
     "iopub.execute_input": "2021-01-11T10:16:44.942826Z",
     "iopub.status.busy": "2021-01-11T10:16:44.941747Z",
     "iopub.status.idle": "2021-01-11T10:16:45.134271Z",
     "shell.execute_reply": "2021-01-11T10:16:45.134783Z"
    },
    "papermill": {
     "duration": 0.216902,
     "end_time": "2021-01-11T10:16:45.134990",
     "exception": false,
     "start_time": "2021-01-11T10:16:44.918088",
     "status": "completed"
    },
    "tags": []
   },
   "outputs": [],
   "source": [
    "model = Sequential()\n",
    "model.add(Dense(512, input_dim=784, activation='relu'))\n",
    "model.add(Dense(10, activation='softmax'))"
   ]
  },
  {
   "cell_type": "code",
   "execution_count": 16,
   "metadata": {
    "execution": {
     "iopub.execute_input": "2021-01-11T10:16:45.189375Z",
     "iopub.status.busy": "2021-01-11T10:16:45.188207Z",
     "iopub.status.idle": "2021-01-11T10:16:45.204123Z",
     "shell.execute_reply": "2021-01-11T10:16:45.204686Z"
    },
    "papermill": {
     "duration": 0.045656,
     "end_time": "2021-01-11T10:16:45.204873",
     "exception": false,
     "start_time": "2021-01-11T10:16:45.159217",
     "status": "completed"
    },
    "tags": []
   },
   "outputs": [],
   "source": [
    "model.compile(loss='categorical_crossentropy', optimizer='adam', metrics=['accuracy'])"
   ]
  },
  {
   "cell_type": "code",
   "execution_count": 17,
   "metadata": {
    "execution": {
     "iopub.execute_input": "2021-01-11T10:16:45.254219Z",
     "iopub.status.busy": "2021-01-11T10:16:45.253115Z",
     "iopub.status.idle": "2021-01-11T10:17:47.218592Z",
     "shell.execute_reply": "2021-01-11T10:17:47.217993Z"
    },
    "papermill": {
     "duration": 61.990759,
     "end_time": "2021-01-11T10:17:47.218802",
     "exception": false,
     "start_time": "2021-01-11T10:16:45.228043",
     "status": "completed"
    },
    "tags": []
   },
   "outputs": [
    {
     "name": "stdout",
     "output_type": "stream",
     "text": [
      "Epoch 1/30\n",
      "240/240 [==============================] - 3s 13ms/step - loss: 0.3295 - accuracy: 0.9086 - val_loss: 0.1935 - val_accuracy: 0.9453\n",
      "Epoch 2/30\n",
      "240/240 [==============================] - 2s 8ms/step - loss: 0.1378 - accuracy: 0.9610 - val_loss: 0.1275 - val_accuracy: 0.9632\n",
      "Epoch 3/30\n",
      "240/240 [==============================] - 2s 8ms/step - loss: 0.0922 - accuracy: 0.9732 - val_loss: 0.1048 - val_accuracy: 0.9707\n",
      "Epoch 4/30\n",
      "240/240 [==============================] - 2s 8ms/step - loss: 0.0672 - accuracy: 0.9808 - val_loss: 0.0937 - val_accuracy: 0.9707\n",
      "Epoch 5/30\n",
      "240/240 [==============================] - 2s 8ms/step - loss: 0.0509 - accuracy: 0.9859 - val_loss: 0.0894 - val_accuracy: 0.9710\n",
      "Epoch 6/30\n",
      "240/240 [==============================] - 2s 9ms/step - loss: 0.0390 - accuracy: 0.9894 - val_loss: 0.0835 - val_accuracy: 0.9753\n",
      "Epoch 7/30\n",
      "240/240 [==============================] - 2s 8ms/step - loss: 0.0302 - accuracy: 0.9922 - val_loss: 0.0781 - val_accuracy: 0.9756\n",
      "Epoch 8/30\n",
      "240/240 [==============================] - 2s 8ms/step - loss: 0.0228 - accuracy: 0.9946 - val_loss: 0.0802 - val_accuracy: 0.9766\n",
      "Epoch 9/30\n",
      "240/240 [==============================] - 2s 8ms/step - loss: 0.0185 - accuracy: 0.9958 - val_loss: 0.0782 - val_accuracy: 0.9781\n",
      "Epoch 10/30\n",
      "240/240 [==============================] - 2s 8ms/step - loss: 0.0140 - accuracy: 0.9970 - val_loss: 0.0763 - val_accuracy: 0.9776\n",
      "Epoch 11/30\n",
      "240/240 [==============================] - 2s 8ms/step - loss: 0.0112 - accuracy: 0.9982 - val_loss: 0.0765 - val_accuracy: 0.9787\n",
      "Epoch 12/30\n",
      "240/240 [==============================] - 2s 8ms/step - loss: 0.0085 - accuracy: 0.9987 - val_loss: 0.0768 - val_accuracy: 0.9777\n",
      "Epoch 13/30\n",
      "240/240 [==============================] - 2s 8ms/step - loss: 0.0065 - accuracy: 0.9993 - val_loss: 0.0784 - val_accuracy: 0.9787\n",
      "Epoch 14/30\n",
      "240/240 [==============================] - 2s 8ms/step - loss: 0.0051 - accuracy: 0.9995 - val_loss: 0.0762 - val_accuracy: 0.9794\n",
      "Epoch 15/30\n",
      "240/240 [==============================] - 2s 8ms/step - loss: 0.0038 - accuracy: 0.9998 - val_loss: 0.0743 - val_accuracy: 0.9804\n",
      "Epoch 16/30\n",
      "240/240 [==============================] - 2s 8ms/step - loss: 0.0027 - accuracy: 1.0000 - val_loss: 0.0768 - val_accuracy: 0.9796\n",
      "Epoch 17/30\n",
      "240/240 [==============================] - 2s 8ms/step - loss: 0.0021 - accuracy: 1.0000 - val_loss: 0.0764 - val_accuracy: 0.9808\n",
      "Epoch 18/30\n",
      "240/240 [==============================] - 2s 8ms/step - loss: 0.0016 - accuracy: 1.0000 - val_loss: 0.0795 - val_accuracy: 0.9795\n",
      "Epoch 19/30\n",
      "240/240 [==============================] - 2s 8ms/step - loss: 0.0015 - accuracy: 1.0000 - val_loss: 0.0788 - val_accuracy: 0.9804\n",
      "Epoch 20/30\n",
      "240/240 [==============================] - 2s 8ms/step - loss: 0.0020 - accuracy: 0.9997 - val_loss: 0.1061 - val_accuracy: 0.9743\n",
      "Epoch 21/30\n",
      "240/240 [==============================] - 2s 8ms/step - loss: 0.0191 - accuracy: 0.9935 - val_loss: 0.1115 - val_accuracy: 0.9729\n",
      "Epoch 22/30\n",
      "240/240 [==============================] - 2s 8ms/step - loss: 0.0077 - accuracy: 0.9980 - val_loss: 0.1012 - val_accuracy: 0.9757\n",
      "Epoch 23/30\n",
      "240/240 [==============================] - 2s 10ms/step - loss: 0.0036 - accuracy: 0.9992 - val_loss: 0.0837 - val_accuracy: 0.9810\n",
      "Epoch 24/30\n",
      "240/240 [==============================] - 2s 8ms/step - loss: 9.0011e-04 - accuracy: 1.0000 - val_loss: 0.0827 - val_accuracy: 0.9813\n",
      "Epoch 25/30\n",
      "240/240 [==============================] - 2s 8ms/step - loss: 5.3687e-04 - accuracy: 1.0000 - val_loss: 0.0849 - val_accuracy: 0.9817\n",
      "Epoch 26/30\n",
      "240/240 [==============================] - 2s 8ms/step - loss: 4.3079e-04 - accuracy: 1.0000 - val_loss: 0.0849 - val_accuracy: 0.9813\n",
      "Epoch 27/30\n",
      "240/240 [==============================] - 2s 8ms/step - loss: 3.7151e-04 - accuracy: 1.0000 - val_loss: 0.0854 - val_accuracy: 0.9812\n",
      "Epoch 28/30\n",
      "240/240 [==============================] - 2s 8ms/step - loss: 3.2977e-04 - accuracy: 1.0000 - val_loss: 0.0870 - val_accuracy: 0.9812\n",
      "Epoch 29/30\n",
      "240/240 [==============================] - 2s 8ms/step - loss: 3.0208e-04 - accuracy: 1.0000 - val_loss: 0.0864 - val_accuracy: 0.9818\n",
      "Epoch 30/30\n",
      "240/240 [==============================] - 2s 9ms/step - loss: 2.7215e-04 - accuracy: 1.0000 - val_loss: 0.0877 - val_accuracy: 0.9813\n"
     ]
    },
    {
     "data": {
      "text/plain": [
       "<tensorflow.python.keras.callbacks.History at 0x7f48ba5901d0>"
      ]
     },
     "execution_count": 17,
     "metadata": {},
     "output_type": "execute_result"
    }
   ],
   "source": [
    "model.fit(X_train, Y_train,\n",
    "          batch_size=200,\n",
    "          epochs=30,\n",
    "          verbose=1, \n",
    "          validation_data=(X_val, Y_val))"
   ]
  },
  {
   "cell_type": "code",
   "execution_count": 18,
   "metadata": {
    "execution": {
     "iopub.execute_input": "2021-01-11T10:17:47.979460Z",
     "iopub.status.busy": "2021-01-11T10:17:47.978282Z",
     "iopub.status.idle": "2021-01-11T10:17:48.901683Z",
     "shell.execute_reply": "2021-01-11T10:17:48.902469Z"
    },
    "papermill": {
     "duration": 1.307761,
     "end_time": "2021-01-11T10:17:48.902670",
     "exception": false,
     "start_time": "2021-01-11T10:17:47.594909",
     "status": "completed"
    },
    "tags": []
   },
   "outputs": [
    {
     "name": "stdout",
     "output_type": "stream",
     "text": [
      "Test loss: 0.07757582515478134\n",
      "Test accuracy: 0.98089998960495\n"
     ]
    }
   ],
   "source": [
    "score = model.evaluate(X_test, Y_test, verbose = 0)\n",
    "print('Test loss:', score[0])\n",
    "print('Test accuracy:', score[1])"
   ]
  }
 ],
 "metadata": {
  "kernelspec": {
   "display_name": "Python 3",
   "language": "python",
   "name": "python3"
  },
  "language_info": {
   "codemirror_mode": {
    "name": "ipython",
    "version": 3
   },
   "file_extension": ".py",
   "mimetype": "text/x-python",
   "name": "python",
   "nbconvert_exporter": "python",
   "pygments_lexer": "ipython3",
   "version": "3.7.6"
  },
  "papermill": {
   "duration": 87.350228,
   "end_time": "2021-01-11T10:17:49.394191",
   "environment_variables": {},
   "exception": null,
   "input_path": "__notebook__.ipynb",
   "output_path": "__notebook__.ipynb",
   "parameters": {},
   "start_time": "2021-01-11T10:16:22.043963",
   "version": "2.1.0"
  }
 },
 "nbformat": 4,
 "nbformat_minor": 4
}
